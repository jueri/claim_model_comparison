{
  "nbformat": 4,
  "nbformat_minor": 0,
  "metadata": {
    "colab": {
      "name": "claim_model_LSTM.ipynb",
      "provenance": [],
      "collapsed_sections": []
    },
    "kernelspec": {
      "name": "python3",
      "display_name": "Python 3"
    },
    "language_info": {
      "name": "python"
    }
  },
  "cells": [
    {
      "cell_type": "code",
      "source": [
        "from google.colab import drive"
      ],
      "metadata": {
        "id": "qSIOQmrFgYMb"
      },
      "execution_count": 172,
      "outputs": []
    },
    {
      "cell_type": "code",
      "source": [
        "drive.mount('/content/drive')  # connect to google drive\n",
        "base_dir = \"drive/MyDrive/BA\""
      ],
      "metadata": {
        "colab": {
          "base_uri": "https://localhost:8080/"
        },
        "id": "pUcYJV3mgcIO",
        "outputId": "8d1c9a41-0b26-4df0-b312-96cc4a3347a2"
      },
      "execution_count": 173,
      "outputs": [
        {
          "output_type": "stream",
          "name": "stdout",
          "text": [
            "Drive already mounted at /content/drive; to attempt to forcibly remount, call drive.mount(\"/content/drive\", force_remount=True).\n"
          ]
        }
      ]
    },
    {
      "cell_type": "code",
      "source": [
        "%%capture\n",
        "!pip install tensorflow_text"
      ],
      "metadata": {
        "id": "w_yE2Aosg3r8"
      },
      "execution_count": 174,
      "outputs": []
    },
    {
      "cell_type": "code",
      "source": [
        "import numpy\n",
        "import pandas as pd\n",
        "import os\n",
        "from keras.models import Sequential\n",
        "from keras.layers import Dense\n",
        "from keras.layers import LSTM\n",
        "from keras.layers.embeddings import Embedding\n",
        "from keras.preprocessing import sequence\n",
        "\n",
        "from tensorflow.keras.preprocessing.text import Tokenizer\n",
        "from tensorflow.keras.preprocessing.sequence import pad_sequences\n",
        "import numpy as np\n",
        "from keras.layers import Dropout\n",
        "from sklearn.model_selection import train_test_split\n",
        "\n",
        "from sklearn.metrics import classification_report\n",
        "\n",
        "# fix random seed for reproducibility\n",
        "numpy.random.seed(42)"
      ],
      "metadata": {
        "id": "vu8i9ECbgfBm"
      },
      "execution_count": 175,
      "outputs": []
    },
    {
      "cell_type": "markdown",
      "source": [
        "### Data preprocessing"
      ],
      "metadata": {
        "id": "P0Z8HnwnhETQ"
      }
    },
    {
      "cell_type": "markdown",
      "source": [
        "#### Load Data"
      ],
      "metadata": {
        "id": "Tpk-LM34s-kv"
      }
    },
    {
      "cell_type": "code",
      "source": [
        "dataset = \"CE-ACL_full.csv\"\n",
        "data = pd.read_csv(os.path.join(base_dir, dataset))"
      ],
      "metadata": {
        "id": "3GxrbUNTnxLE"
      },
      "execution_count": 176,
      "outputs": []
    },
    {
      "cell_type": "code",
      "source": [
        "claims = data[data[\"Claim\"] == True]\n",
        "no_claims = data[data[\"Claim\"] == False].sample(n=len(claims), random_state=42) # sample 1:1\n",
        "data_sample = pd.concat([claims, no_claims])"
      ],
      "metadata": {
        "id": "pJew2RKYoUiD"
      },
      "execution_count": 177,
      "outputs": []
    },
    {
      "cell_type": "code",
      "source": [
        "texts = data_sample[\"Sentence\"]\n",
        "labels = data_sample[\"Claim\"]"
      ],
      "metadata": {
        "id": "MDOv4KnVtRbF"
      },
      "execution_count": 178,
      "outputs": []
    },
    {
      "cell_type": "code",
      "source": [
        "labels = labels.apply(lambda x: 0 if x==False else 1)"
      ],
      "metadata": {
        "id": "zdWPZ4LPLpJy"
      },
      "execution_count": 179,
      "outputs": []
    },
    {
      "cell_type": "markdown",
      "source": [
        "#### Create embeddings"
      ],
      "metadata": {
        "id": "cygdDcUSs6FP"
      }
    },
    {
      "cell_type": "code",
      "source": [
        "max_words = 5000  # consider the top n words in the data set only\n",
        "maxlen = len(data_sample[\"Sentence\"].max())  # longest sentence to calculate max embedding len\n",
        "\n",
        "def create_embeddings(data, labels):\n",
        "  tokenizer = Tokenizer(num_words=max_words)  # create tokanizer\n",
        "  tokenizer.fit_on_texts(texts)  # tokenize sentences\n",
        "  sequences = tokenizer.texts_to_sequences(texts) # get sequences for sentences\n",
        "\n",
        "  data = pad_sequences(sequences, maxlen=maxlen) # padding for shorter sentences\n",
        "  labels = np.asarray(labels) # return labels\n",
        "  \n",
        "  # reporting\n",
        "  word_index = tokenizer.word_index\n",
        "  print('Found %s unique tokens' % len(word_index))\n",
        "  print('Shape of data tensor:', data.shape)\n",
        "  print('Shape of label tensor:', labels.shape)\n",
        "\n",
        "  return data, labels"
      ],
      "metadata": {
        "id": "hJyWOr15tHHY"
      },
      "execution_count": 180,
      "outputs": []
    },
    {
      "cell_type": "markdown",
      "source": [
        "### Split data"
      ],
      "metadata": {
        "id": "jpziPoiESX6f"
      }
    },
    {
      "cell_type": "code",
      "source": [
        "data, labels = create_embeddings(data, labels)"
      ],
      "metadata": {
        "colab": {
          "base_uri": "https://localhost:8080/"
        },
        "id": "ihpEeV41Sa1y",
        "outputId": "e6a167ea-26bb-405d-e0d0-4f134a1978af"
      },
      "execution_count": 181,
      "outputs": [
        {
          "output_type": "stream",
          "name": "stdout",
          "text": [
            "Found 9291 unique tokens\n",
            "Shape of data tensor: (2468, 197)\n",
            "Shape of label tensor: (2468,)\n"
          ]
        }
      ]
    },
    {
      "cell_type": "code",
      "source": [
        "x_train, x_test, y_train, y_test = train_test_split(\n",
        "    data, labels, test_size=0.2, random_state=0\n",
        ")"
      ],
      "metadata": {
        "id": "cHVkU3aMcwNw"
      },
      "execution_count": 182,
      "outputs": []
    },
    {
      "cell_type": "code",
      "source": [
        "print(x_train.shape)\n",
        "print(y_train.shape)"
      ],
      "metadata": {
        "colab": {
          "base_uri": "https://localhost:8080/"
        },
        "id": "fDcjMg_7d8bp",
        "outputId": "9a985f44-ab4f-49f2-8622-bc3c7e9e2459"
      },
      "execution_count": 183,
      "outputs": [
        {
          "output_type": "stream",
          "name": "stdout",
          "text": [
            "(1974, 197)\n",
            "(1974,)\n"
          ]
        }
      ]
    },
    {
      "cell_type": "code",
      "source": [
        "print(x_test.shape)\n",
        "print(y_test.shape)"
      ],
      "metadata": {
        "colab": {
          "base_uri": "https://localhost:8080/"
        },
        "id": "SZJsLfSWeZ4P",
        "outputId": "840742dc-9b65-442c-9688-e1f5b3b5e72a"
      },
      "execution_count": 184,
      "outputs": [
        {
          "output_type": "stream",
          "name": "stdout",
          "text": [
            "(494, 197)\n",
            "(494,)\n"
          ]
        }
      ]
    },
    {
      "cell_type": "markdown",
      "source": [
        "### create Model"
      ],
      "metadata": {
        "id": "TdRONT_ZcED_"
      }
    },
    {
      "cell_type": "code",
      "source": [
        "from tensorflow import keras\n",
        "from tensorflow.keras.optimizers import Adam\n",
        "\n",
        "# create the model\n",
        "embedding_vecor_length = 32\n",
        "model = Sequential()\n",
        "\n",
        "model.add(Embedding(max_words, embedding_vecor_length, input_length=maxlen))\n",
        "\n",
        "model.add(LSTM(100, dropout=0.2, recurrent_dropout=0.2))\n",
        "\n",
        "model.add(Dense(1, activation='sigmoid'))\n",
        "model.compile(loss='binary_crossentropy', optimizer='adam', metrics=['accuracy'])\n",
        "print(model.summary())"
      ],
      "metadata": {
        "colab": {
          "base_uri": "https://localhost:8080/"
        },
        "id": "Ua1ze28EcDkg",
        "outputId": "263211cd-2844-4e44-dded-e6b9cf7ec117"
      },
      "execution_count": 185,
      "outputs": [
        {
          "output_type": "stream",
          "name": "stdout",
          "text": [
            "Model: \"sequential_13\"\n",
            "_________________________________________________________________\n",
            " Layer (type)                Output Shape              Param #   \n",
            "=================================================================\n",
            " embedding_12 (Embedding)    (None, 197, 32)           160000    \n",
            "                                                                 \n",
            " lstm_13 (LSTM)              (None, 100)               53200     \n",
            "                                                                 \n",
            " dense_11 (Dense)            (None, 1)                 101       \n",
            "                                                                 \n",
            "=================================================================\n",
            "Total params: 213,301\n",
            "Trainable params: 213,301\n",
            "Non-trainable params: 0\n",
            "_________________________________________________________________\n",
            "None\n"
          ]
        }
      ]
    },
    {
      "cell_type": "markdown",
      "source": [
        "### Fit model"
      ],
      "metadata": {
        "id": "weFgtQPDS_io"
      }
    },
    {
      "cell_type": "code",
      "source": [
        "history = model.fit(x_train, y_train, epochs=20, batch_size=128, validation_split=0.3)"
      ],
      "metadata": {
        "colab": {
          "base_uri": "https://localhost:8080/"
        },
        "id": "kpoD8UzccJH8",
        "outputId": "74d6eb37-0bbb-4c16-a145-f14ad42a182e"
      },
      "execution_count": 186,
      "outputs": [
        {
          "output_type": "stream",
          "name": "stdout",
          "text": [
            "Epoch 1/20\n",
            "11/11 [==============================] - 10s 679ms/step - loss: 0.6900 - accuracy: 0.5062 - val_loss: 0.6722 - val_accuracy: 0.5818\n",
            "Epoch 2/20\n",
            "11/11 [==============================] - 7s 645ms/step - loss: 0.6664 - accuracy: 0.5909 - val_loss: 0.6561 - val_accuracy: 0.6172\n",
            "Epoch 3/20\n",
            "11/11 [==============================] - 7s 645ms/step - loss: 0.6342 - accuracy: 0.6191 - val_loss: 0.6371 - val_accuracy: 0.6324\n",
            "Epoch 4/20\n",
            "11/11 [==============================] - 7s 647ms/step - loss: 0.5624 - accuracy: 0.7422 - val_loss: 0.5807 - val_accuracy: 0.7032\n",
            "Epoch 5/20\n",
            "11/11 [==============================] - 7s 652ms/step - loss: 0.4451 - accuracy: 0.8190 - val_loss: 0.5262 - val_accuracy: 0.7538\n",
            "Epoch 6/20\n",
            "11/11 [==============================] - 7s 638ms/step - loss: 0.3153 - accuracy: 0.8769 - val_loss: 0.5384 - val_accuracy: 0.7521\n",
            "Epoch 7/20\n",
            "11/11 [==============================] - 7s 647ms/step - loss: 0.2096 - accuracy: 0.9160 - val_loss: 0.5556 - val_accuracy: 0.7740\n",
            "Epoch 8/20\n",
            "11/11 [==============================] - 7s 639ms/step - loss: 0.1302 - accuracy: 0.9551 - val_loss: 0.5994 - val_accuracy: 0.7622\n",
            "Epoch 9/20\n",
            "11/11 [==============================] - 7s 644ms/step - loss: 0.0836 - accuracy: 0.9718 - val_loss: 0.6373 - val_accuracy: 0.7538\n",
            "Epoch 10/20\n",
            "11/11 [==============================] - 7s 647ms/step - loss: 0.0647 - accuracy: 0.9783 - val_loss: 0.7306 - val_accuracy: 0.7504\n",
            "Epoch 11/20\n",
            "11/11 [==============================] - 7s 643ms/step - loss: 0.0491 - accuracy: 0.9862 - val_loss: 0.6647 - val_accuracy: 0.7572\n",
            "Epoch 12/20\n",
            "11/11 [==============================] - 7s 651ms/step - loss: 0.0407 - accuracy: 0.9920 - val_loss: 0.9780 - val_accuracy: 0.7656\n",
            "Epoch 13/20\n",
            "11/11 [==============================] - 7s 649ms/step - loss: 0.0249 - accuracy: 0.9942 - val_loss: 0.9024 - val_accuracy: 0.7470\n",
            "Epoch 14/20\n",
            "11/11 [==============================] - 7s 650ms/step - loss: 0.0240 - accuracy: 0.9935 - val_loss: 0.8595 - val_accuracy: 0.7487\n",
            "Epoch 15/20\n",
            "11/11 [==============================] - 7s 642ms/step - loss: 0.0164 - accuracy: 0.9964 - val_loss: 0.9049 - val_accuracy: 0.7622\n",
            "Epoch 16/20\n",
            "11/11 [==============================] - 7s 652ms/step - loss: 0.0122 - accuracy: 0.9978 - val_loss: 1.0076 - val_accuracy: 0.7470\n",
            "Epoch 17/20\n",
            "11/11 [==============================] - 7s 640ms/step - loss: 0.0134 - accuracy: 0.9971 - val_loss: 1.0431 - val_accuracy: 0.7470\n",
            "Epoch 18/20\n",
            "11/11 [==============================] - 7s 647ms/step - loss: 0.0120 - accuracy: 0.9957 - val_loss: 1.0513 - val_accuracy: 0.7470\n",
            "Epoch 19/20\n",
            "11/11 [==============================] - 7s 644ms/step - loss: 0.0488 - accuracy: 0.9841 - val_loss: 0.8326 - val_accuracy: 0.7218\n",
            "Epoch 20/20\n",
            "11/11 [==============================] - 7s 641ms/step - loss: 0.0792 - accuracy: 0.9725 - val_loss: 1.0921 - val_accuracy: 0.7487\n"
          ]
        }
      ]
    },
    {
      "cell_type": "markdown",
      "source": [
        "### Evaluate Model"
      ],
      "metadata": {
        "id": "Q1ZTjep0TGtO"
      }
    },
    {
      "cell_type": "code",
      "source": [
        "scores = model.evaluate(x_test, y_test, verbose=1)\n",
        "print(\"Accuracy: %.2f%%\" % (scores[1]*100))"
      ],
      "metadata": {
        "colab": {
          "base_uri": "https://localhost:8080/"
        },
        "id": "icPjulyTfbbe",
        "outputId": "16b42a2d-3656-4046-9e5e-0331c99b8fdb"
      },
      "execution_count": 187,
      "outputs": [
        {
          "output_type": "stream",
          "name": "stdout",
          "text": [
            "16/16 [==============================] - 1s 46ms/step - loss: 1.0738 - accuracy: 0.7267\n",
            "Accuracy: 72.67%\n"
          ]
        }
      ]
    },
    {
      "cell_type": "code",
      "source": [
        "# preds = model.predict(x_test)\n",
        "predictions = model.predict(np.array(x_test))"
      ],
      "metadata": {
        "id": "NAbrCPtmIXwH"
      },
      "execution_count": 198,
      "outputs": []
    },
    {
      "cell_type": "code",
      "source": [
        "res = []\n",
        "for i in predictions:\n",
        "  if i < 0.5:\n",
        "    res.append(0)\n",
        "  else:\n",
        "    res.append(1)"
      ],
      "metadata": {
        "id": "3rQpA-AdWl1M"
      },
      "execution_count": 195,
      "outputs": []
    },
    {
      "cell_type": "code",
      "source": [
        "print(classification_report(res, y_test))\n"
      ],
      "metadata": {
        "colab": {
          "base_uri": "https://localhost:8080/"
        },
        "id": "PXaZ6IDYGX6U",
        "outputId": "2fe65de5-15a3-4132-d507-c4561b1eba03"
      },
      "execution_count": 197,
      "outputs": [
        {
          "output_type": "stream",
          "name": "stdout",
          "text": [
            "              precision    recall  f1-score   support\n",
            "\n",
            "           0       0.62      0.76      0.68       190\n",
            "           1       0.83      0.70      0.76       304\n",
            "\n",
            "    accuracy                           0.73       494\n",
            "   macro avg       0.72      0.73      0.72       494\n",
            "weighted avg       0.75      0.73      0.73       494\n",
            "\n"
          ]
        }
      ]
    },
    {
      "cell_type": "code",
      "source": [
        "import matplotlib.pyplot as plt\n",
        "\n",
        "acc = history.history['accuracy']\n",
        "val_acc = history.history['val_accuracy']\n",
        "loss = history.history['loss']\n",
        "val_loss = history.history['val_loss']\n",
        "\n",
        "epochs = range(len(acc))\n",
        "\n",
        "plt.plot(epochs, acc, 'bo', label='Training acc')\n",
        "plt.plot(epochs, val_acc, 'b', label='Validation acc')\n",
        "plt.title('Training and validation accuracy')\n",
        "plt.legend()\n",
        "\n",
        "plt.figure()\n",
        "\n",
        "plt.plot(epochs, loss, 'bo', label='Training loss')\n",
        "plt.plot(epochs, val_loss, 'b', label='Validation loss')\n",
        "plt.title('Training and validation loss')\n",
        "plt.legend()\n",
        "\n",
        "plt.show()"
      ],
      "metadata": {
        "colab": {
          "base_uri": "https://localhost:8080/",
          "height": 545
        },
        "id": "JdxB9ki-ieVc",
        "outputId": "3955e69a-a6a5-4098-a5eb-a5b8be2145f7"
      },
      "execution_count": 199,
      "outputs": [
        {
          "output_type": "display_data",
          "data": {
            "image/png": "[encoded data removed]",
            "text/plain": [
              "<Figure size 432x288 with 1 Axes>"
            ]
          },
          "metadata": {
            "needs_background": "light"
          }
        },
        {
          "output_type": "display_data",
          "data": {
            "image/png": "[encoded data removed]",
            "text/plain": [
              "<Figure size 432x288 with 1 Axes>"
            ]
          },
          "metadata": {
            "needs_background": "light"
          }
        }
      ]
    }
  ]
}