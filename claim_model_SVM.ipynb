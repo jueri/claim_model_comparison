{
 "cells": [
  {
   "cell_type": "markdown",
   "metadata": {},
   "source": [
    "# Support Vector Machine\n",
    "___\n",
    "\n",
    "This model is based on:\n",
    "\n",
    "```Bibtex\n",
    "@inproceedings{liebeckWhatAirportMining2016,\n",
    "  title = {What to Do with an Airport? {{Mining}} Arguments in the German Online Participation Project Tempelhofer Feld},\n",
    "  author = {Liebeck, Matthias and Esau, Katharina and Conrad, Stefan},\n",
    "  date = {2016},\n",
    "  doi = {10.18653/v1/w16-2817},\n",
    "  }\n",
    "```\n",
    "\n",
    "Features:\n",
    "- Unigrams\n",
    "- L2 Normalized POS Tag distribution of STTS\n",
    "- L2 Normalized POS Tag dependencies TIGER Schema\n",
    "\n",
    "Parameter:"
   ]
  },
  {
   "cell_type": "code",
   "execution_count": 4,
   "metadata": {},
   "outputs": [],
   "source": [
    "import os\n",
    "\n",
    "import pandas as pd\n",
    "from sklearn.compose import ColumnTransformer\n",
    "from sklearn.svm import LinearSVC\n",
    "from sklearn.metrics import classification_report, f1_score, precision_score, recall_score, accuracy_score\n",
    "from sklearn.pipeline import FeatureUnion, Pipeline\n",
    "from sklearn.preprocessing import StandardScaler\n",
    "from sklearn.feature_extraction.text import CountVectorizer\n",
    "\n",
    "from src.features import POSTagDistribution, POSDependencyDistribution\n",
    "from src.dataset import load_dataset\n",
    "from config import PROJECT_NAME, DATASET\n",
    "\n",
    "import wandb"
   ]
  },
  {
   "cell_type": "code",
   "execution_count": 5,
   "metadata": {},
   "outputs": [],
   "source": [
    "MODEL_NAME = \"SVM\"\n",
    "TRACKING = False"
   ]
  },
  {
   "cell_type": "markdown",
   "metadata": {},
   "source": [
    "### 0. Load data"
   ]
  },
  {
   "cell_type": "code",
   "execution_count": 6,
   "metadata": {},
   "outputs": [],
   "source": [
    "X_train, X_test, y_train, y_test = load_dataset()"
   ]
  },
  {
   "cell_type": "markdown",
   "metadata": {},
   "source": [
    "### 1. Encode features"
   ]
  },
  {
   "cell_type": "code",
   "execution_count": 7,
   "metadata": {},
   "outputs": [],
   "source": [
    "text_features = FeatureUnion(transformer_list=[(\"unigrams\", CountVectorizer())])"
   ]
  },
  {
   "cell_type": "code",
   "execution_count": 8,
   "metadata": {},
   "outputs": [],
   "source": [
    "column_trans = ColumnTransformer(\n",
    "    [\n",
    "        (\"unigrams\", text_features, \"Sentence\"),\n",
    "        (\"POS_tag\", POSTagDistribution(), \"Sentence\"),\n",
    "        (\"POS_dep\", POSDependencyDistribution(), \"Sentence\"),\n",
    "    ],\n",
    "    remainder=\"drop\",\n",
    "    verbose=True,\n",
    ")"
   ]
  },
  {
   "cell_type": "markdown",
   "metadata": {},
   "source": [
    "### 2. Create model"
   ]
  },
  {
   "cell_type": "code",
   "execution_count": 9,
   "metadata": {},
   "outputs": [],
   "source": [
    "pipe = Pipeline(\n",
    "    [\n",
    "        (\"preprocessing\", column_trans),\n",
    "        (\"scaler\", StandardScaler(with_mean=False)),\n",
    "        (\"classify\", LinearSVC()),\n",
    "    ],\n",
    "    verbose=True,\n",
    ")"
   ]
  },
  {
   "cell_type": "markdown",
   "metadata": {},
   "source": [
    "### 4. Train model"
   ]
  },
  {
   "cell_type": "code",
   "execution_count": 10,
   "metadata": {},
   "outputs": [],
   "source": [
    "if TRACKING:\n",
    "    wandb.init(project=PROJECT_NAME,\n",
    "            config={\n",
    "                \"model\": MODEL_NAME,\n",
    "                \"dataset\": DATASET,\n",
    "                \"train_data_size\": len(X_train),\n",
    "                \"validation_data_size\": 0,\n",
    "                \"test_data_size\": len(X_test),\n",
    "                \"batch_size\": None,\n",
    "                \"learning_rate\": None,\n",
    "                \"epochs\": None\n",
    "            })"
   ]
  },
  {
   "cell_type": "code",
   "execution_count": 11,
   "metadata": {},
   "outputs": [
    {
     "name": "stdout",
     "output_type": "stream",
     "text": [
      "[ColumnTransformer] ...... (1 of 3) Processing unigrams, total=   0.0s\n",
      "[ColumnTransformer] ....... (2 of 3) Processing POS_tag, total=  10.1s\n",
      "[ColumnTransformer] ....... (3 of 3) Processing POS_dep, total=   8.9s\n",
      "[Pipeline] ..... (step 1 of 3) Processing preprocessing, total=  19.0s\n",
      "[Pipeline] ............ (step 2 of 3) Processing scaler, total=   0.0s\n",
      "[Pipeline] .......... (step 3 of 3) Processing classify, total=   0.2s\n"
     ]
    },
    {
     "name": "stderr",
     "output_type": "stream",
     "text": [
      "/usr/local/lib/python3.9/site-packages/sklearn/svm/_base.py:1206: ConvergenceWarning: Liblinear failed to converge, increase the number of iterations.\n",
      "  warnings.warn(\n"
     ]
    },
    {
     "data": {
      "text/plain": [
       "Pipeline(steps=[('preprocessing',\n",
       "                 ColumnTransformer(transformers=[('unigrams',\n",
       "                                                  FeatureUnion(transformer_list=[('unigrams',\n",
       "                                                                                  CountVectorizer())]),\n",
       "                                                  'Sentence'),\n",
       "                                                 ('POS_tag',\n",
       "                                                  POSTagDistribution(),\n",
       "                                                  'Sentence'),\n",
       "                                                 ('POS_dep',\n",
       "                                                  POSDependencyDistribution(),\n",
       "                                                  'Sentence')],\n",
       "                                   verbose=True)),\n",
       "                ('scaler', StandardScaler(with_mean=False)),\n",
       "                ('classify', LinearSVC())],\n",
       "         verbose=True)"
      ]
     },
     "execution_count": 11,
     "metadata": {},
     "output_type": "execute_result"
    }
   ],
   "source": [
    "pipe.fit(X_train, y_train)"
   ]
  },
  {
   "cell_type": "markdown",
   "metadata": {},
   "source": [
    "### 5. Predict results"
   ]
  },
  {
   "cell_type": "code",
   "execution_count": 12,
   "metadata": {},
   "outputs": [],
   "source": [
    "Y_pred = pipe.predict(X_test)"
   ]
  },
  {
   "cell_type": "markdown",
   "metadata": {},
   "source": [
    "### 6. Evaluate results"
   ]
  },
  {
   "cell_type": "code",
   "execution_count": 13,
   "metadata": {},
   "outputs": [
    {
     "name": "stdout",
     "output_type": "stream",
     "text": [
      "              precision    recall  f1-score   support\n",
      "\n",
      "       False       0.69      0.74      0.71       235\n",
      "        True       0.74      0.69      0.72       259\n",
      "\n",
      "    accuracy                           0.71       494\n",
      "   macro avg       0.72      0.72      0.71       494\n",
      "weighted avg       0.72      0.71      0.71       494\n",
      "\n"
     ]
    }
   ],
   "source": [
    "print(classification_report(y_test, Y_pred))"
   ]
  },
  {
   "cell_type": "code",
   "execution_count": 14,
   "metadata": {},
   "outputs": [],
   "source": [
    "f1 = f1_score(y_test, Y_pred)\n",
    "recall = recall_score(y_test, Y_pred)\n",
    "precision = precision_score(y_test, Y_pred)\n",
    "accuracy = accuracy_score(y_test, Y_pred)"
   ]
  },
  {
   "cell_type": "code",
   "execution_count": 15,
   "metadata": {},
   "outputs": [],
   "source": [
    "if TRACKING:\n",
    "    wandb.log({'test_f1': f1})\n",
    "    wandb.log({'test_recall': recall})\n",
    "    wandb.log({'test_precision': precision})\n",
    "    wandb.log({'test_accuracy': accuracy})\n"
   ]
  }
 ],
 "metadata": {
  "interpreter": {
   "hash": "949777d72b0d2535278d3dc13498b2535136f6dfe0678499012e853ee9abcab1"
  },
  "kernelspec": {
   "display_name": "Python 3.9.9 64-bit",
   "language": "python",
   "name": "python3"
  },
  "language_info": {
   "codemirror_mode": {
    "name": "ipython",
    "version": 3
   },
   "file_extension": ".py",
   "mimetype": "text/x-python",
   "name": "python",
   "nbconvert_exporter": "python",
   "pygments_lexer": "ipython3",
   "version": "3.9.9"
  },
  "orig_nbformat": 4
 },
 "nbformat": 4,
 "nbformat_minor": 2
}
