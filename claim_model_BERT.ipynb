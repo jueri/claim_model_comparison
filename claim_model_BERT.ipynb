{
 "cells": [
  {
   "cell_type": "markdown",
   "metadata": {
    "id": "micGWFxfsDZ4"
   },
   "source": [
    "# BERT\n",
    "___\n",
    "\n",
    "This model is based on:\n",
    "\n",
    "```Bibtex\n",
    "@article{toledo-ronenMultilingualArgumentMining2020,\n",
    "  title = {Multilingual Argument Mining: {{Datasets}} and Analysis},\n",
    "  author = {Toledo-Ronen, Orith and Orbach, Matan and Bilu, Yonatan and Spector, Artem and Slonim, Noam},\n",
    "  date = {2020},\n",
    "  url = {https://arxiv.org/abs/2010.06432},\n",
    "}\n",
    "```"
   ]
  },
  {
   "cell_type": "code",
   "execution_count": 23,
   "metadata": {
    "id": "mlAsZxQ6zhwP"
   },
   "outputs": [],
   "source": [
    "import os\n",
    "\n",
    "import matplotlib.pyplot as plt\n",
    "import numpy as np\n",
    "import pandas as pd\n",
    "import tensorflow as tf\n",
    "\n",
    "from sklearn.metrics import (accuracy_score, classification_report, f1_score,\n",
    "                             precision_score, recall_score)\n",
    "from sklearn.model_selection import train_test_split\n",
    "from transformers import (DistilBertTokenizer,\n",
    "                          TFDistilBertForSequenceClassification)\n",
    "\n",
    "from src.dataset import load_dataset\n",
    "from src.evaluation import confusion_matrix_plot, acc_plot\n",
    "from config import DATASETS, PROJECT_NAME\n",
    "\n",
    "import wandb\n",
    "from wandb.keras import WandbCallback"
   ]
  },
  {
   "cell_type": "code",
   "execution_count": 2,
   "metadata": {
    "id": "RGHKJBFH1gnj"
   },
   "outputs": [],
   "source": [
    "MODEL_NAME = \"distilbert-base-uncased\"\n",
    "TRACKING = False\n",
    "FALSE_CLASS_BALANCE = 1.0\n",
    "\n",
    "dataset = DATASETS[\"dataset_2014\"]"
   ]
  },
  {
   "cell_type": "markdown",
   "metadata": {
    "id": "BcLuKX2kzwOm"
   },
   "source": [
    "### 0. Load data"
   ]
  },
  {
   "cell_type": "code",
   "execution_count": 3,
   "metadata": {
    "id": "7l7ietPr0gtc"
   },
   "outputs": [],
   "source": [
    "train_text_split, X_test, train_labels_split, y_test = load_dataset(dataset_path=os.path.join(dataset[\"base_path\"], dataset[\"data\"]), false_class_balance=FALSE_CLASS_BALANCE)"
   ]
  },
  {
   "cell_type": "code",
   "execution_count": 4,
   "metadata": {
    "id": "CHEq3e7GUnVw"
   },
   "outputs": [],
   "source": [
    "y_train = train_labels_split.apply(lambda x: 0 if x==False else 1)\n",
    "y_test = y_test.apply(lambda x: 0 if x==False else 1)"
   ]
  },
  {
   "cell_type": "code",
   "execution_count": 5,
   "metadata": {
    "id": "OtWqqTmuVA4I"
   },
   "outputs": [],
   "source": [
    "X_train, X_val, y_train, y_val = train_test_split(train_text_split, train_labels_split, test_size=.2, random_state=42) # train/test"
   ]
  },
  {
   "cell_type": "markdown",
   "metadata": {
    "id": "Qm9N5TSc0-kN"
   },
   "source": [
    "### 1. Prepare dataset"
   ]
  },
  {
   "cell_type": "code",
   "execution_count": 6,
   "metadata": {
    "id": "YGJvxlV-1PR9"
   },
   "outputs": [],
   "source": [
    "tokenizer = DistilBertTokenizer.from_pretrained(MODEL_NAME) # load tokenizer"
   ]
  },
  {
   "cell_type": "code",
   "execution_count": 7,
   "metadata": {
    "id": "EVLRzFYK1AXe"
   },
   "outputs": [],
   "source": [
    "def tokenize_dataset(dataset):\n",
    "    \"\"\"Tokenize a list of strings for the BERT model.\"\"\"\n",
    "    encoded = tokenizer(\n",
    "        dataset,\n",
    "        padding=True,\n",
    "        truncation=True,\n",
    "        return_tensors='np',\n",
    "    )\n",
    "    return encoded.data"
   ]
  },
  {
   "cell_type": "code",
   "execution_count": 8,
   "metadata": {
    "id": "VB1G87J22EeC"
   },
   "outputs": [],
   "source": [
    "encodet_train_text = tokenize_dataset(X_train[\"Sentence\"].to_list())\n",
    "encodet_val_texts = tokenize_dataset(X_val[\"Sentence\"].to_list())\n",
    "encodet_test_texts = tokenize_dataset(X_test[\"Sentence\"].to_list())"
   ]
  },
  {
   "cell_type": "markdown",
   "metadata": {
    "id": "poSIdU5z21Zp"
   },
   "source": [
    "### 2. Create Model"
   ]
  },
  {
   "cell_type": "code",
   "execution_count": 9,
   "metadata": {
    "colab": {
     "base_uri": "https://localhost:8080/"
    },
    "id": "rJRSd_NK2TIn",
    "outputId": "cb40b730-cbf0-44e2-fd87-15a2fad0370f"
   },
   "outputs": [
    {
     "name": "stderr",
     "output_type": "stream",
     "text": [
      "2022-01-18 21:40:42.883941: I tensorflow/stream_executor/cuda/cuda_gpu_executor.cc:936] successful NUMA node read from SysFS had negative value (-1), but there must be at least one NUMA node, so returning NUMA node zero\n",
      "2022-01-18 21:40:42.890232: I tensorflow/stream_executor/cuda/cuda_gpu_executor.cc:936] successful NUMA node read from SysFS had negative value (-1), but there must be at least one NUMA node, so returning NUMA node zero\n",
      "2022-01-18 21:40:42.891109: I tensorflow/stream_executor/cuda/cuda_gpu_executor.cc:936] successful NUMA node read from SysFS had negative value (-1), but there must be at least one NUMA node, so returning NUMA node zero\n",
      "2022-01-18 21:40:42.892037: I tensorflow/core/platform/cpu_feature_guard.cc:151] This TensorFlow binary is optimized with oneAPI Deep Neural Network Library (oneDNN) to use the following CPU instructions in performance-critical operations:  AVX2 FMA\n",
      "To enable them in other operations, rebuild TensorFlow with the appropriate compiler flags.\n",
      "2022-01-18 21:40:42.892485: I tensorflow/stream_executor/cuda/cuda_gpu_executor.cc:936] successful NUMA node read from SysFS had negative value (-1), but there must be at least one NUMA node, so returning NUMA node zero\n",
      "2022-01-18 21:40:42.892970: I tensorflow/stream_executor/cuda/cuda_gpu_executor.cc:936] successful NUMA node read from SysFS had negative value (-1), but there must be at least one NUMA node, so returning NUMA node zero\n",
      "2022-01-18 21:40:42.893443: I tensorflow/stream_executor/cuda/cuda_gpu_executor.cc:936] successful NUMA node read from SysFS had negative value (-1), but there must be at least one NUMA node, so returning NUMA node zero\n",
      "2022-01-18 21:40:43.263988: I tensorflow/stream_executor/cuda/cuda_gpu_executor.cc:936] successful NUMA node read from SysFS had negative value (-1), but there must be at least one NUMA node, so returning NUMA node zero\n",
      "2022-01-18 21:40:43.267339: I tensorflow/stream_executor/cuda/cuda_gpu_executor.cc:936] successful NUMA node read from SysFS had negative value (-1), but there must be at least one NUMA node, so returning NUMA node zero\n",
      "2022-01-18 21:40:43.267794: I tensorflow/stream_executor/cuda/cuda_gpu_executor.cc:936] successful NUMA node read from SysFS had negative value (-1), but there must be at least one NUMA node, so returning NUMA node zero\n",
      "2022-01-18 21:40:43.268073: I tensorflow/core/common_runtime/gpu/gpu_device.cc:1525] Created device /job:localhost/replica:0/task:0/device:GPU:0 with 8376 MB memory:  -> device: 0, name: GeForce RTX 3080 Ti, pci bus id: 0000:01:00.0, compute capability: 8.6\n",
      "2022-01-18 21:40:43.343930: W tensorflow/python/util/util.cc:368] Sets are not currently considered sequences, but this may change in the future, so consider avoiding using them.\n",
      "2022-01-18 21:40:43.828543: I tensorflow/stream_executor/cuda/cuda_blas.cc:1786] TensorFloat-32 will be used for the matrix multiplication. This will only be logged once.\n",
      "Some layers from the model checkpoint at distilbert-base-uncased were not used when initializing TFDistilBertForSequenceClassification: ['vocab_layer_norm', 'activation_13', 'vocab_projector', 'vocab_transform']\n",
      "- This IS expected if you are initializing TFDistilBertForSequenceClassification from the checkpoint of a model trained on another task or with another architecture (e.g. initializing a BertForSequenceClassification model from a BertForPreTraining model).\n",
      "- This IS NOT expected if you are initializing TFDistilBertForSequenceClassification from the checkpoint of a model that you expect to be exactly identical (initializing a BertForSequenceClassification model from a BertForSequenceClassification model).\n",
      "Some layers of TFDistilBertForSequenceClassification were not initialized from the model checkpoint at distilbert-base-uncased and are newly initialized: ['dropout_19', 'pre_classifier', 'classifier']\n",
      "You should probably TRAIN this model on a down-stream task to be able to use it for predictions and inference.\n"
     ]
    }
   ],
   "source": [
    "model = TFDistilBertForSequenceClassification.from_pretrained(MODEL_NAME, num_labels=2)  # Load model"
   ]
  },
  {
   "cell_type": "code",
   "execution_count": 10,
   "metadata": {
    "id": "AQJDmZpJz1MV"
   },
   "outputs": [],
   "source": [
    "# Set hyperparameter\n",
    "learning_rate = 5e-5\n",
    "epochs = 5\n",
    "batch_size = 16"
   ]
  },
  {
   "cell_type": "code",
   "execution_count": 11,
   "metadata": {
    "colab": {
     "base_uri": "https://localhost:8080/"
    },
    "id": "s3tjSo2C9U5J",
    "outputId": "78e13834-0bb0-49e6-8160-6ab93b98a133"
   },
   "outputs": [
    {
     "name": "stderr",
     "output_type": "stream",
     "text": [
      "Some layers from the model checkpoint at distilbert-base-uncased were not used when initializing TFDistilBertForSequenceClassification: ['vocab_layer_norm', 'activation_13', 'vocab_projector', 'vocab_transform']\n",
      "- This IS expected if you are initializing TFDistilBertForSequenceClassification from the checkpoint of a model trained on another task or with another architecture (e.g. initializing a BertForSequenceClassification model from a BertForPreTraining model).\n",
      "- This IS NOT expected if you are initializing TFDistilBertForSequenceClassification from the checkpoint of a model that you expect to be exactly identical (initializing a BertForSequenceClassification model from a BertForSequenceClassification model).\n",
      "Some layers of TFDistilBertForSequenceClassification were not initialized from the model checkpoint at distilbert-base-uncased and are newly initialized: ['pre_classifier', 'dropout_39', 'classifier']\n",
      "You should probably TRAIN this model on a down-stream task to be able to use it for predictions and inference.\n"
     ]
    }
   ],
   "source": [
    "model = TFDistilBertForSequenceClassification.from_pretrained(MODEL_NAME, num_labels=2)\n",
    "\n",
    "loss = tf.keras.losses.SparseCategoricalCrossentropy(from_logits=False),\n",
    "\n",
    "optimizer = tf.keras.optimizers.Adam(learning_rate=learning_rate)"
   ]
  },
  {
   "cell_type": "code",
   "execution_count": 12,
   "metadata": {
    "id": "-UojN-kl9PyA"
   },
   "outputs": [],
   "source": [
    "model.compile(\n",
    "    optimizer=optimizer, \n",
    "    loss=loss,\n",
    "    metrics=tf.metrics.SparseCategoricalAccuracy(),\n",
    "    )"
   ]
  },
  {
   "cell_type": "code",
   "execution_count": 13,
   "metadata": {
    "colab": {
     "base_uri": "https://localhost:8080/"
    },
    "id": "yBgliU46aoB7",
    "outputId": "07a2e09e-e4c4-4a48-efc2-4928a6ebb7c8"
   },
   "outputs": [
    {
     "name": "stdout",
     "output_type": "stream",
     "text": [
      "Model: \"tf_distil_bert_for_sequence_classification_1\"\n",
      "_________________________________________________________________\n",
      " Layer (type)                Output Shape              Param #   \n",
      "=================================================================\n",
      " distilbert (TFDistilBertMai  multiple                 66362880  \n",
      " nLayer)                                                         \n",
      "                                                                 \n",
      " pre_classifier (Dense)      multiple                  590592    \n",
      "                                                                 \n",
      " classifier (Dense)          multiple                  1538      \n",
      "                                                                 \n",
      " dropout_39 (Dropout)        multiple                  0         \n",
      "                                                                 \n",
      "=================================================================\n",
      "Total params: 66,955,010\n",
      "Trainable params: 66,955,010\n",
      "Non-trainable params: 0\n",
      "_________________________________________________________________\n"
     ]
    }
   ],
   "source": [
    "model.summary()"
   ]
  },
  {
   "cell_type": "markdown",
   "metadata": {
    "id": "fjswBP3h3Wmj"
   },
   "source": [
    "### 3. Train model"
   ]
  },
  {
   "cell_type": "code",
   "execution_count": 14,
   "metadata": {
    "colab": {
     "base_uri": "https://localhost:8080/",
     "height": 34
    },
    "id": "-nENT7JA0SXB",
    "outputId": "9f622b5e-1c57-4517-ab49-4bf5554c44d1"
   },
   "outputs": [],
   "source": [
    "if TRACKING:\n",
    "  report = []\n",
    "  model.summary(print_fn=lambda x: report.append(x))\n",
    "\n",
    "  wandb.init(project=PROJECT_NAME,\n",
    "          config={\n",
    "              \"model\": MODEL_NAME,\n",
    "              \"setup\": \"\\n\".join(report),\n",
    "              \"dataset\": dataset[\"name\"],\n",
    "              \"train_data_size\": len(X_train),\n",
    "              \"validation_data_size\": len(X_val),\n",
    "              \"test_data_size\": len(X_test),\n",
    "              \"batch_size\": batch_size,\n",
    "              \"learning_rate\": learning_rate,\n",
    "              \"epochs\": epochs,\n",
    "              \"false_class_balance\": FALSE_CLASS_BALANCE\n",
    "          })"
   ]
  },
  {
   "cell_type": "code",
   "execution_count": 15,
   "metadata": {
    "colab": {
     "base_uri": "https://localhost:8080/"
    },
    "id": "bNyhJ4Z39CPI",
    "outputId": "1da0cf9a-adf5-467a-b175-a429432a3634"
   },
   "outputs": [
    {
     "name": "stdout",
     "output_type": "stream",
     "text": [
      "Epoch 1/5\n",
      "99/99 [==============================] - 16s 99ms/step - loss: 0.8117 - sparse_categorical_accuracy: 0.7004 - val_loss: 0.4253 - val_sparse_categorical_accuracy: 0.7949\n",
      "Epoch 2/5\n",
      "99/99 [==============================] - 9s 90ms/step - loss: 0.6183 - sparse_categorical_accuracy: 0.7555 - val_loss: 0.4528 - val_sparse_categorical_accuracy: 0.8101\n",
      "Epoch 3/5\n",
      "99/99 [==============================] - 9s 87ms/step - loss: 0.4601 - sparse_categorical_accuracy: 0.8379 - val_loss: 0.4093 - val_sparse_categorical_accuracy: 0.8152\n",
      "Epoch 4/5\n",
      "99/99 [==============================] - 9s 88ms/step - loss: 0.3722 - sparse_categorical_accuracy: 0.8714 - val_loss: 1.5989 - val_sparse_categorical_accuracy: 0.8203\n",
      "Epoch 5/5\n",
      "99/99 [==============================] - 9s 88ms/step - loss: 0.3594 - sparse_categorical_accuracy: 0.9335 - val_loss: 1.1262 - val_sparse_categorical_accuracy: 0.8354\n"
     ]
    }
   ],
   "source": [
    "history = model.fit(\n",
    "      encodet_train_text,\n",
    "      np.array(y_train), \n",
    "      validation_data=(encodet_val_texts, np.array(y_val)),\n",
    "      epochs=epochs, \n",
    "      batch_size=batch_size,\n",
    "      # callbacks=[WandbCallback()]\n",
    ")\n",
    "\n",
    "#stop = timeit.default_timer()"
   ]
  },
  {
   "cell_type": "markdown",
   "metadata": {
    "id": "KSkPio_k73c3"
   },
   "source": [
    "### 4. Evaluate results"
   ]
  },
  {
   "cell_type": "code",
   "execution_count": 16,
   "metadata": {
    "colab": {
     "base_uri": "https://localhost:8080/"
    },
    "id": "wtqmrwmx75Kt",
    "outputId": "36751917-6080-4057-b7bf-1b8b81a13b49"
   },
   "outputs": [
    {
     "name": "stdout",
     "output_type": "stream",
     "text": [
      "16/16 [==============================] - 2s 50ms/step - loss: 1.1006 - sparse_categorical_accuracy: 0.8603\n"
     ]
    }
   ],
   "source": [
    "test_loss, test_accuracy = model.evaluate(encodet_test_texts, np.array(y_test))"
   ]
  },
  {
   "cell_type": "code",
   "execution_count": 17,
   "metadata": {
    "id": "9TM3zK3B6oH2"
   },
   "outputs": [],
   "source": [
    "preds = model.predict(encodet_test_texts)"
   ]
  },
  {
   "cell_type": "code",
   "execution_count": 18,
   "metadata": {
    "id": "_uI4XOIW6-Am"
   },
   "outputs": [],
   "source": [
    "y_pred = np.argmax(preds.logits, axis=1)"
   ]
  },
  {
   "cell_type": "code",
   "execution_count": 19,
   "metadata": {
    "colab": {
     "base_uri": "https://localhost:8080/"
    },
    "id": "Lt8AlOKOXEhS",
    "outputId": "98629d71-487a-419d-87eb-5e6ed4420ed8"
   },
   "outputs": [
    {
     "name": "stdout",
     "output_type": "stream",
     "text": [
      "              precision    recall  f1-score   support\n",
      "\n",
      "           0       0.89      0.80      0.85       235\n",
      "           1       0.84      0.91      0.87       259\n",
      "\n",
      "    accuracy                           0.86       494\n",
      "   macro avg       0.86      0.86      0.86       494\n",
      "weighted avg       0.86      0.86      0.86       494\n",
      "\n"
     ]
    }
   ],
   "source": [
    "print(classification_report(y_test, y_pred))"
   ]
  },
  {
   "cell_type": "code",
   "execution_count": 20,
   "metadata": {
    "id": "y01qlc1VXFJR"
   },
   "outputs": [],
   "source": [
    "f1 = f1_score(y_test, y_pred)\n",
    "recall = recall_score(y_test, y_pred)\n",
    "precision = precision_score(y_test, y_pred)\n",
    "accuracy = accuracy_score(y_test, y_pred)"
   ]
  },
  {
   "cell_type": "code",
   "execution_count": 21,
   "metadata": {
    "colab": {
     "base_uri": "https://localhost:8080/",
     "height": 412,
     "referenced_widgets": [
      "953b7122c5094efa8e2ce3ae38cd4d3b",
      "82db0c1a2915490d83ca2e51340f7319",
      "2443fa668eee4eabb7956a67b71252b7",
      "8c84fb4e019948a3977c773006139259",
      "3be279cecf1649f0a63159517da41830",
      "b43eedc55fe94fdc82d8e266b29dff1c",
      "e3b6358b48fe4ed79f827fbf09d33c5f",
      "83a98bdad1164c83b7df51f9ffda6eb1"
     ]
    },
    "id": "y2lIJLqwXN2o",
    "outputId": "d0460b0d-f350-4d62-eb77-845200f3872f"
   },
   "outputs": [],
   "source": [
    "if TRACKING:\n",
    "    wandb.log({'test_f1': f1})\n",
    "    wandb.log({'test_recall': recall})\n",
    "    wandb.log({'test_precision': precision})\n",
    "    wandb.log({'test_accuracy': accuracy})\n",
    "    wandb.finish()"
   ]
  },
  {
   "cell_type": "code",
   "execution_count": 24,
   "metadata": {
    "colab": {
     "base_uri": "https://localhost:8080/",
     "height": 545
    },
    "id": "zHXM7GoRaLbE",
    "outputId": "3e89c527-6e22-428d-f532-295b60d2b7e4"
   },
   "outputs": [
    {
     "data": {
      "image/png": "[encoded data removed]",
      "text/plain": [
       "<Figure size 432x288 with 1 Axes>"
      ]
     },
     "metadata": {
      "needs_background": "light"
     },
     "output_type": "display_data"
    },
    {
     "data": {
      "image/png": "[encoded data removed]",
      "text/plain": [
       "<Figure size 432x288 with 1 Axes>"
      ]
     },
     "metadata": {
      "needs_background": "light"
     },
     "output_type": "display_data"
    }
   ],
   "source": [
    "acc_plot(history)"
   ]
  },
  {
   "cell_type": "code",
   "execution_count": 25,
   "metadata": {
    "id": "ir5rwnU2eGEd"
   },
   "outputs": [
    {
     "data": {
      "image/png": "[encoded data removed]",
      "text/plain": [
       "<Figure size 720x504 with 2 Axes>"
      ]
     },
     "metadata": {},
     "output_type": "display_data"
    }
   ],
   "source": [
    "confusion_matrix_plot(y_test, y_pred, label=[False, True], title=MODEL_NAME+\" confusion matrix\")"
   ]
  },
  {
   "cell_type": "code",
   "execution_count": null,
   "metadata": {},
   "outputs": [],
   "source": []
  }
 ],
 "metadata": {
  "accelerator": "GPU",
  "colab": {
   "collapsed_sections": [],
   "name": "claim_model_BERT.ipynb",
   "provenance": []
  },
  "interpreter": {
   "hash": "c3d0d4dfebe08d7a8f2679ae67a62821ba97669a07cfa2cc3b810e0239d71a72"
  },
  "kernelspec": {
   "display_name": "compvenv",
   "language": "python",
   "name": "python3"
  },
  "language_info": {
   "codemirror_mode": {
    "name": "ipython",
    "version": 3
   },
   "file_extension": ".py",
   "mimetype": "text/x-python",
   "name": "python",
   "nbconvert_exporter": "python",
   "pygments_lexer": "ipython3",
   "version": "3.8.10"
  },
  "widgets": {
   "application/vnd.jupyter.widget-state+json": {
    "2443fa668eee4eabb7956a67b71252b7": {
     "model_module": "@jupyter-widgets/controls",
     "model_module_version": "1.5.0",
     "model_name": "LabelModel",
     "state": {
      "_dom_classes": [],
      "_model_module": "@jupyter-widgets/controls",
      "_model_module_version": "1.5.0",
      "_model_name": "LabelModel",
      "_view_count": null,
      "_view_module": "@jupyter-widgets/controls",
      "_view_module_version": "1.5.0",
      "_view_name": "LabelView",
      "description": "",
      "description_tooltip": null,
      "layout": "IPY_MODEL_b43eedc55fe94fdc82d8e266b29dff1c",
      "placeholder": "​",
      "style": "IPY_MODEL_3be279cecf1649f0a63159517da41830",
      "value": " 0.01MB of 0.01MB uploaded (0.00MB deduped)\r"
     }
    },
    "3be279cecf1649f0a63159517da41830": {
     "model_module": "@jupyter-widgets/controls",
     "model_module_version": "1.5.0",
     "model_name": "DescriptionStyleModel",
     "state": {
      "_model_module": "@jupyter-widgets/controls",
      "_model_module_version": "1.5.0",
      "_model_name": "DescriptionStyleModel",
      "_view_count": null,
      "_view_module": "@jupyter-widgets/base",
      "_view_module_version": "1.2.0",
      "_view_name": "StyleView",
      "description_width": ""
     }
    },
    "82db0c1a2915490d83ca2e51340f7319": {
     "model_module": "@jupyter-widgets/base",
     "model_module_version": "1.2.0",
     "model_name": "LayoutModel",
     "state": {
      "_model_module": "@jupyter-widgets/base",
      "_model_module_version": "1.2.0",
      "_model_name": "LayoutModel",
      "_view_count": null,
      "_view_module": "@jupyter-widgets/base",
      "_view_module_version": "1.2.0",
      "_view_name": "LayoutView",
      "align_content": null,
      "align_items": null,
      "align_self": null,
      "border": null,
      "bottom": null,
      "display": null,
      "flex": null,
      "flex_flow": null,
      "grid_area": null,
      "grid_auto_columns": null,
      "grid_auto_flow": null,
      "grid_auto_rows": null,
      "grid_column": null,
      "grid_gap": null,
      "grid_row": null,
      "grid_template_areas": null,
      "grid_template_columns": null,
      "grid_template_rows": null,
      "height": null,
      "justify_content": null,
      "justify_items": null,
      "left": null,
      "margin": null,
      "max_height": null,
      "max_width": null,
      "min_height": null,
      "min_width": null,
      "object_fit": null,
      "object_position": null,
      "order": null,
      "overflow": null,
      "overflow_x": null,
      "overflow_y": null,
      "padding": null,
      "right": null,
      "top": null,
      "visibility": null,
      "width": null
     }
    },
    "83a98bdad1164c83b7df51f9ffda6eb1": {
     "model_module": "@jupyter-widgets/base",
     "model_module_version": "1.2.0",
     "model_name": "LayoutModel",
     "state": {
      "_model_module": "@jupyter-widgets/base",
      "_model_module_version": "1.2.0",
      "_model_name": "LayoutModel",
      "_view_count": null,
      "_view_module": "@jupyter-widgets/base",
      "_view_module_version": "1.2.0",
      "_view_name": "LayoutView",
      "align_content": null,
      "align_items": null,
      "align_self": null,
      "border": null,
      "bottom": null,
      "display": null,
      "flex": null,
      "flex_flow": null,
      "grid_area": null,
      "grid_auto_columns": null,
      "grid_auto_flow": null,
      "grid_auto_rows": null,
      "grid_column": null,
      "grid_gap": null,
      "grid_row": null,
      "grid_template_areas": null,
      "grid_template_columns": null,
      "grid_template_rows": null,
      "height": null,
      "justify_content": null,
      "justify_items": null,
      "left": null,
      "margin": null,
      "max_height": null,
      "max_width": null,
      "min_height": null,
      "min_width": null,
      "object_fit": null,
      "object_position": null,
      "order": null,
      "overflow": null,
      "overflow_x": null,
      "overflow_y": null,
      "padding": null,
      "right": null,
      "top": null,
      "visibility": null,
      "width": null
     }
    },
    "8c84fb4e019948a3977c773006139259": {
     "model_module": "@jupyter-widgets/controls",
     "model_module_version": "1.5.0",
     "model_name": "FloatProgressModel",
     "state": {
      "_dom_classes": [],
      "_model_module": "@jupyter-widgets/controls",
      "_model_module_version": "1.5.0",
      "_model_name": "FloatProgressModel",
      "_view_count": null,
      "_view_module": "@jupyter-widgets/controls",
      "_view_module_version": "1.5.0",
      "_view_name": "ProgressView",
      "bar_style": "",
      "description": "",
      "description_tooltip": null,
      "layout": "IPY_MODEL_83a98bdad1164c83b7df51f9ffda6eb1",
      "max": 1,
      "min": 0,
      "orientation": "horizontal",
      "style": "IPY_MODEL_e3b6358b48fe4ed79f827fbf09d33c5f",
      "value": 1
     }
    },
    "953b7122c5094efa8e2ce3ae38cd4d3b": {
     "model_module": "@jupyter-widgets/controls",
     "model_module_version": "1.5.0",
     "model_name": "VBoxModel",
     "state": {
      "_dom_classes": [],
      "_model_module": "@jupyter-widgets/controls",
      "_model_module_version": "1.5.0",
      "_model_name": "VBoxModel",
      "_view_count": null,
      "_view_module": "@jupyter-widgets/controls",
      "_view_module_version": "1.5.0",
      "_view_name": "VBoxView",
      "box_style": "",
      "children": [
       "IPY_MODEL_2443fa668eee4eabb7956a67b71252b7",
       "IPY_MODEL_8c84fb4e019948a3977c773006139259"
      ],
      "layout": "IPY_MODEL_82db0c1a2915490d83ca2e51340f7319"
     }
    },
    "b43eedc55fe94fdc82d8e266b29dff1c": {
     "model_module": "@jupyter-widgets/base",
     "model_module_version": "1.2.0",
     "model_name": "LayoutModel",
     "state": {
      "_model_module": "@jupyter-widgets/base",
      "_model_module_version": "1.2.0",
      "_model_name": "LayoutModel",
      "_view_count": null,
      "_view_module": "@jupyter-widgets/base",
      "_view_module_version": "1.2.0",
      "_view_name": "LayoutView",
      "align_content": null,
      "align_items": null,
      "align_self": null,
      "border": null,
      "bottom": null,
      "display": null,
      "flex": null,
      "flex_flow": null,
      "grid_area": null,
      "grid_auto_columns": null,
      "grid_auto_flow": null,
      "grid_auto_rows": null,
      "grid_column": null,
      "grid_gap": null,
      "grid_row": null,
      "grid_template_areas": null,
      "grid_template_columns": null,
      "grid_template_rows": null,
      "height": null,
      "justify_content": null,
      "justify_items": null,
      "left": null,
      "margin": null,
      "max_height": null,
      "max_width": null,
      "min_height": null,
      "min_width": null,
      "object_fit": null,
      "object_position": null,
      "order": null,
      "overflow": null,
      "overflow_x": null,
      "overflow_y": null,
      "padding": null,
      "right": null,
      "top": null,
      "visibility": null,
      "width": null
     }
    },
    "e3b6358b48fe4ed79f827fbf09d33c5f": {
     "model_module": "@jupyter-widgets/controls",
     "model_module_version": "1.5.0",
     "model_name": "ProgressStyleModel",
     "state": {
      "_model_module": "@jupyter-widgets/controls",
      "_model_module_version": "1.5.0",
      "_model_name": "ProgressStyleModel",
      "_view_count": null,
      "_view_module": "@jupyter-widgets/base",
      "_view_module_version": "1.2.0",
      "_view_name": "StyleView",
      "bar_color": null,
      "description_width": ""
     }
    }
   }
  }
 },
 "nbformat": 4,
 "nbformat_minor": 4
}
