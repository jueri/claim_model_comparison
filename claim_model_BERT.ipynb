{
  "cells": [
    {
      "cell_type": "markdown",
      "metadata": {
        "id": "micGWFxfsDZ4"
      },
      "source": [
        "# BERT\n",
        "___\n",
        "\n",
        "This model is based on:\n",
        "\n",
        "```Bibtex\n",
        "@article{toledo-ronenMultilingualArgumentMining2020,\n",
        "  title = {Multilingual Argument Mining: {{Datasets}} and Analysis},\n",
        "  author = {Toledo-Ronen, Orith and Orbach, Matan and Bilu, Yonatan and Spector, Artem and Slonim, Noam},\n",
        "  date = {2020},\n",
        "  url = {https://arxiv.org/abs/2010.06432},\n",
        "}\n",
        "```\n",
        "\n",
        "Features:\n",
        "- Sentence\n",
        "\n",
        "Parameter:"
      ]
    },
    {
      "cell_type": "code",
      "execution_count": null,
      "metadata": {},
      "outputs": [],
      "source": [
        "%%capture\n",
        "! pip install --quiet transformers\n",
        "! pip install wandb -qqq"
      ]
    },
    {
      "cell_type": "code",
      "execution_count": 3,
      "metadata": {
        "id": "RGHKJBFH1gnj"
      },
      "outputs": [],
      "source": [
        "MODEL_NAME = \"distilbert-base-uncased\""
      ]
    },
    {
      "cell_type": "code",
      "execution_count": 4,
      "metadata": {
        "id": "mlAsZxQ6zhwP"
      },
      "outputs": [],
      "source": [
        "import os\n",
        "import pandas as pd\n",
        "import numpy as np\n",
        "import random\n",
        "import timeit\n",
        "\n",
        "\n",
        "from sklearn.model_selection import train_test_split\n",
        "\n",
        "from transformers import DistilBertTokenizer\n",
        "from transformers import TFDistilBertForSequenceClassification\n",
        "\n",
        "import tensorflow as tf\n",
        "\n",
        "import wandb\n",
        "from wandb.keras import WandbCallback\n"
      ]
    },
    {
      "cell_type": "code",
      "execution_count": 5,
      "metadata": {
        "id": "Pw4LqcarzvlW"
      },
      "outputs": [],
      "source": [
        "from google.colab import drive"
      ]
    },
    {
      "cell_type": "code",
      "execution_count": 6,
      "metadata": {
        "colab": {
          "base_uri": "https://localhost:8080/"
        },
        "id": "bg-V51Maynai",
        "outputId": "e0d2e8c3-1f67-4fb6-d31f-ebb07a2e08f2"
      },
      "outputs": [
        {
          "name": "stdout",
          "output_type": "stream",
          "text": [
            "\u001b[34m\u001b[1mwandb\u001b[0m: You can find your API key in your browser here: https://wandb.ai/authorize\n",
            "\u001b[34m\u001b[1mwandb\u001b[0m: Paste an API key from your profile and hit enter: \n",
            "\u001b[34m\u001b[1mwandb\u001b[0m: Appending key for api.wandb.ai to your netrc file: /root/.netrc\n"
          ]
        }
      ],
      "source": [
        "!wandb login"
      ]
    },
    {
      "cell_type": "code",
      "execution_count": 7,
      "metadata": {
        "colab": {
          "base_uri": "https://localhost:8080/"
        },
        "id": "o6YE_Fv1z9QN",
        "outputId": "f921ec1b-4ac0-44fa-a9d0-ad5400eb8503"
      },
      "outputs": [
        {
          "name": "stdout",
          "output_type": "stream",
          "text": [
            "Mounted at /content/drive\n"
          ]
        }
      ],
      "source": [
        "drive.mount('/content/drive')  # connect to google drive\n",
        "base_dir = \"drive/MyDrive/BA\""
      ]
    },
    {
      "cell_type": "markdown",
      "metadata": {
        "id": "BcLuKX2kzwOm"
      },
      "source": [
        "### 0. Load data"
      ]
    },
    {
      "cell_type": "code",
      "execution_count": 21,
      "metadata": {
        "id": "7l7ietPr0gtc"
      },
      "outputs": [],
      "source": [
        "dataset = \"CE-ACL_full.csv\""
      ]
    },
    {
      "cell_type": "code",
      "execution_count": 22,
      "metadata": {
        "id": "8bmTpYVO0GNa"
      },
      "outputs": [],
      "source": [
        "train_data = pd.read_csv(os.path.join(base_dir, dataset))"
      ]
    },
    {
      "cell_type": "code",
      "execution_count": 23,
      "metadata": {
        "id": "JoLz43FSpOuI"
      },
      "outputs": [],
      "source": [
        "label = train_data[\"Claim\"].astype(int).to_list()  # convert bool labels to int\n",
        "text = train_data[\"Sentence\"].to_list()"
      ]
    },
    {
      "cell_type": "code",
      "execution_count": 24,
      "metadata": {
        "id": "i9ZDOIETqSJ-"
      },
      "outputs": [],
      "source": [
        "train_text_split, test_text_split, train_labels_split, test_labels_split = train_test_split(text, label, test_size=.2, random_state=42) # train/test"
      ]
    },
    {
      "cell_type": "code",
      "execution_count": 25,
      "metadata": {
        "colab": {
          "base_uri": "https://localhost:8080/"
        },
        "id": "QLSmaiI0qybs",
        "outputId": "3043cb44-6df5-42fc-d7be-983e03d706c2"
      },
      "outputs": [
        {
          "name": "stdout",
          "output_type": "stream",
          "text": [
            "Num train data:       37186\n",
            "Num test data:        9297\n",
            "Num claims in train:  995\n",
            "Num claims in test:   239\n"
          ]
        }
      ],
      "source": [
        "print(\"Num train data:      \", str(len(train_text_split)))\n",
        "print(\"Num test data:       \", str(len(test_text_split)))\n",
        "print(\"Num claims in train: \", str(sum(train_labels_split)))\n",
        "print(\"Num claims in test:  \", str(sum(test_labels_split)))\n"
      ]
    },
    {
      "cell_type": "code",
      "execution_count": 26,
      "metadata": {
        "id": "6Sk0qh4ar2l9"
      },
      "outputs": [],
      "source": [
        "train_texts, val_texts, train_labels, val_labels = train_test_split(train_text_split, train_labels_split, test_size=.2, random_state=42) # train/test"
      ]
    },
    {
      "cell_type": "markdown",
      "metadata": {
        "id": "Qm9N5TSc0-kN"
      },
      "source": [
        "### 2. Prepare dataset"
      ]
    },
    {
      "cell_type": "code",
      "execution_count": 27,
      "metadata": {
        "id": "YGJvxlV-1PR9"
      },
      "outputs": [],
      "source": [
        "tokenizer = DistilBertTokenizer.from_pretrained(MODEL_NAME) # load tokenizer"
      ]
    },
    {
      "cell_type": "code",
      "execution_count": 28,
      "metadata": {
        "id": "EVLRzFYK1AXe"
      },
      "outputs": [],
      "source": [
        "def tokenize_dataset(dataset):\n",
        "    \"\"\"Tokenize a list of strings for the BERT model.\"\"\"\n",
        "    encoded = tokenizer(\n",
        "        dataset,\n",
        "        padding=True,\n",
        "        truncation=True,\n",
        "        return_tensors='np',\n",
        "    )\n",
        "    return encoded.data"
      ]
    },
    {
      "cell_type": "code",
      "execution_count": 29,
      "metadata": {
        "id": "VB1G87J22EeC"
      },
      "outputs": [],
      "source": [
        "encodet_train_text = tokenize_dataset(train_texts)\n",
        "encodet_val_texts = tokenize_dataset(val_texts)\n",
        "encodet_test_texts = tokenize_dataset(test_text_split)"
      ]
    },
    {
      "cell_type": "markdown",
      "metadata": {
        "id": "poSIdU5z21Zp"
      },
      "source": [
        "### 3. Create Model"
      ]
    },
    {
      "cell_type": "code",
      "execution_count": 30,
      "metadata": {
        "colab": {
          "base_uri": "https://localhost:8080/",
          "height": 154,
          "referenced_widgets": [
            "3534cf2e22e049d6bffba0d9158e8146",
            "a1376c0da5914d3c81014f0f7edc89f4",
            "c77cad5a35974adba500ce3b3f019022",
            "baa60c314ef746d3a3630fd79f39465f",
            "140c4a9545244c768fec4258746a8021",
            "b90db1306a2746ae8a2a2d56f78bfd5a",
            "4037cf4104054b698495c9a11dc79d51",
            "b6c6b87eda1448f6b8485f58c6b9f2e6",
            "520a2cb5346043e6bdf668732c1281a7",
            "96d30834770f4809939eead3ec291256",
            "d3480e732e1d4e67a5248326623620be"
          ]
        },
        "id": "rJRSd_NK2TIn",
        "outputId": "8c8f5c26-4975-4c5b-c8eb-da4aa08d80cc"
      },
      "outputs": [
        {
          "data": {
            "application/vnd.jupyter.widget-view+json": {
              "model_id": "3534cf2e22e049d6bffba0d9158e8146",
              "version_major": 2,
              "version_minor": 0
            },
            "text/plain": [
              "Downloading:   0%|          | 0.00/347M [00:00<?, ?B/s]"
            ]
          },
          "metadata": {},
          "output_type": "display_data"
        },
        {
          "name": "stderr",
          "output_type": "stream",
          "text": [
            "Some layers from the model checkpoint at distilbert-base-uncased were not used when initializing TFDistilBertForSequenceClassification: ['vocab_transform', 'activation_13', 'vocab_layer_norm', 'vocab_projector']\n",
            "- This IS expected if you are initializing TFDistilBertForSequenceClassification from the checkpoint of a model trained on another task or with another architecture (e.g. initializing a BertForSequenceClassification model from a BertForPreTraining model).\n",
            "- This IS NOT expected if you are initializing TFDistilBertForSequenceClassification from the checkpoint of a model that you expect to be exactly identical (initializing a BertForSequenceClassification model from a BertForSequenceClassification model).\n",
            "Some layers of TFDistilBertForSequenceClassification were not initialized from the model checkpoint at distilbert-base-uncased and are newly initialized: ['dropout_19', 'classifier', 'pre_classifier']\n",
            "You should probably TRAIN this model on a down-stream task to be able to use it for predictions and inference.\n"
          ]
        }
      ],
      "source": [
        "model = TFDistilBertForSequenceClassification.from_pretrained(MODEL_NAME, num_labels=2)  # Load model"
      ]
    },
    {
      "cell_type": "code",
      "execution_count": 31,
      "metadata": {
        "id": "AQJDmZpJz1MV"
      },
      "outputs": [],
      "source": [
        "# Set hyperparameter\n",
        "learning_rate = 5e-5\n",
        "epochs = 3\n",
        "batch_size = 16"
      ]
    },
    {
      "cell_type": "code",
      "execution_count": 32,
      "metadata": {
        "colab": {
          "base_uri": "https://localhost:8080/"
        },
        "id": "s3tjSo2C9U5J",
        "outputId": "2c06f887-82b4-4492-a2d8-91e23cedd35c"
      },
      "outputs": [
        {
          "name": "stderr",
          "output_type": "stream",
          "text": [
            "Some layers from the model checkpoint at distilbert-base-uncased were not used when initializing TFDistilBertForSequenceClassification: ['vocab_transform', 'activation_13', 'vocab_layer_norm', 'vocab_projector']\n",
            "- This IS expected if you are initializing TFDistilBertForSequenceClassification from the checkpoint of a model trained on another task or with another architecture (e.g. initializing a BertForSequenceClassification model from a BertForPreTraining model).\n",
            "- This IS NOT expected if you are initializing TFDistilBertForSequenceClassification from the checkpoint of a model that you expect to be exactly identical (initializing a BertForSequenceClassification model from a BertForSequenceClassification model).\n",
            "Some layers of TFDistilBertForSequenceClassification were not initialized from the model checkpoint at distilbert-base-uncased and are newly initialized: ['dropout_39', 'classifier', 'pre_classifier']\n",
            "You should probably TRAIN this model on a down-stream task to be able to use it for predictions and inference.\n"
          ]
        }
      ],
      "source": [
        "model = TFDistilBertForSequenceClassification.from_pretrained(MODEL_NAME, num_labels=2)\n",
        "\n",
        "loss = tf.keras.losses.SparseCategoricalCrossentropy(from_logits=False),\n",
        "\n",
        "optimizer = tf.keras.optimizers.Adam(learning_rate=learning_rate)"
      ]
    },
    {
      "cell_type": "code",
      "execution_count": 33,
      "metadata": {
        "id": "-UojN-kl9PyA"
      },
      "outputs": [],
      "source": [
        "model.compile(\n",
        "    optimizer=optimizer, \n",
        "    loss=model.compute_loss,\n",
        "    metrics=tf.metrics.SparseCategoricalAccuracy(),\n",
        "    ) # can also use any keras loss fn"
      ]
    },
    {
      "cell_type": "markdown",
      "metadata": {
        "id": "fjswBP3h3Wmj"
      },
      "source": [
        "### 4. Train model"
      ]
    },
    {
      "cell_type": "code",
      "execution_count": 37,
      "metadata": {
        "colab": {
          "base_uri": "https://localhost:8080/",
          "height": 471
        },
        "id": "-nENT7JA0SXB",
        "outputId": "0d65bedd-2a43-4f8e-c418-53e0e50a049e"
      },
      "outputs": [
        {
          "name": "stderr",
          "output_type": "stream",
          "text": [
            "\u001b[34m\u001b[1mwandb\u001b[0m: Currently logged in as: \u001b[33mjueri\u001b[0m (use `wandb login --relogin` to force relogin)\n"
          ]
        },
        {
          "data": {
            "text/html": [
              "\n",
              "                    Syncing run <strong><a href=\"https://wandb.ai/jueri/claim_detect_en/runs/2savg1vb\" target=\"_blank\">fearful-poltergeist-1</a></strong> to <a href=\"https://wandb.ai/jueri/claim_detect_en\" target=\"_blank\">Weights & Biases</a> (<a href=\"https://docs.wandb.com/integrations/jupyter.html\" target=\"_blank\">docs</a>).<br/>\n",
              "\n",
              "                "
            ],
            "text/plain": [
              "<IPython.core.display.HTML object>"
            ]
          },
          "metadata": {},
          "output_type": "display_data"
        },
        {
          "data": {
            "text/html": [
              "<button onClick=\"this.nextSibling.style.display='block';this.style.display='none';\">Display W&B run</button><iframe src=\"https://wandb.ai/jueri/claim_detect_en/runs/2savg1vb?jupyter=true\" style=\"border:none;width:100%;height:420px;display:none;\"></iframe>"
            ],
            "text/plain": [
              "<wandb.sdk.wandb_run.Run at 0x7f0a05cca2d0>"
            ]
          },
          "execution_count": 37,
          "metadata": {},
          "output_type": "execute_result"
        }
      ],
      "source": [
        "wandb.init(project=\"claim_detect_en\",\n",
        "           config={\n",
        "               \"model\": MODEL_NAME,\n",
        "               \"dataset\": dataset,\n",
        "               \"train_data_size\": len(train_texts),\n",
        "               \"validation_data_size\": len(val_texts),\n",
        "               \"test_data_size\": len(test_text_split),\n",
        "               \"batch_size\": batch_size,\n",
        "               \"learning_rate\": learning_rate,\n",
        "               \"epochs\": epochs\n",
        "           })"
      ]
    },
    {
      "cell_type": "code",
      "execution_count": 38,
      "metadata": {
        "colab": {
          "base_uri": "https://localhost:8080/"
        },
        "id": "bNyhJ4Z39CPI",
        "outputId": "e76f7a2a-d2ec-4043-e0cc-ce7c574db9a7"
      },
      "outputs": [
        {
          "name": "stdout",
          "output_type": "stream",
          "text": [
            "Epoch 1/3\n",
            "   6/1860 [..............................] - ETA: 52:48 - loss: 0.4131 - sparse_categorical_accuracy: 0.9167WARNING:tensorflow:Callback method `on_train_batch_end` is slow compared to the batch time (batch time: 0.6751s vs `on_train_batch_end` time: 0.8627s). Check your callbacks.\n",
            "1860/1860 [==============================] - 3279s 2s/step - loss: 0.1060 - sparse_categorical_accuracy: 0.9730 - val_loss: 0.0886 - val_sparse_categorical_accuracy: 0.9730\n"
          ]
        },
        {
          "name": "stderr",
          "output_type": "stream",
          "text": [
            "\u001b[34m\u001b[1mwandb\u001b[0m: \u001b[32m\u001b[41mERROR\u001b[0m Can't save model, h5py returned error: Saving the model to HDF5 format requires the model to be a Functional model or a Sequential model. It does not work for subclassed models, because such models are defined via the body of a Python method, which isn't safely serializable. Consider saving to the Tensorflow SavedModel format (by setting save_format=\"tf\") or using `save_weights`.\n"
          ]
        },
        {
          "name": "stdout",
          "output_type": "stream",
          "text": [
            "Epoch 2/3\n",
            "1860/1860 [==============================] - 3263s 2s/step - loss: 0.0661 - sparse_categorical_accuracy: 0.9766 - val_loss: 0.0918 - val_sparse_categorical_accuracy: 0.9739\n",
            "Epoch 3/3\n",
            "1860/1860 [==============================] - 3274s 2s/step - loss: 0.0382 - sparse_categorical_accuracy: 0.9868 - val_loss: 0.1384 - val_sparse_categorical_accuracy: 0.9724\n",
            "Time Elapsed:  9875.218564791\n"
          ]
        }
      ],
      "source": [
        "start = timeit.default_timer()\n",
        "\n",
        "model.fit(\n",
        "      encodet_train_text,\n",
        "      np.array(train_labels), \n",
        "      validation_data=(encodet_val_texts, np.array(val_labels)),\n",
        "      epochs=epochs, \n",
        "      batch_size=batch_size,\n",
        "      callbacks=[WandbCallback()])\n",
        "\n",
        "stop = timeit.default_timer()\n",
        "\n",
        "print('Time Elapsed: ', stop - start)\n",
        "wandb.log({'time-elapsed': stop - start})\n",
        "\n",
        "# wandb.finish()"
      ]
    },
    {
      "cell_type": "markdown",
      "metadata": {
        "id": "KSkPio_k73c3"
      },
      "source": [
        "### 5. Predict results"
      ]
    },
    {
      "cell_type": "code",
      "execution_count": 39,
      "metadata": {
        "colab": {
          "base_uri": "https://localhost:8080/",
          "height": 387,
          "referenced_widgets": [
            "fc9af3806a1649fbbede73c27f7faf3e",
            "fb8ac56bb7fe460d90de232f4561c503",
            "ec7ba3ff6b034aa28ab3f5ba2ac79853",
            "1f2c9f90e3be43218aef4edcd150971c",
            "bdbd6203126f4dd19d1e4a5709fe9590",
            "8c30661d98fb43a1a0d014017cb6084b",
            "c64287aef95b49428f221847cc0462a9",
            "bf0d92ff81b541c0aaa34d108fda202c"
          ]
        },
        "id": "wtqmrwmx75Kt",
        "outputId": "0ab22808-2cf6-40eb-9185-cf1fa7d72080"
      },
      "outputs": [
        {
          "name": "stdout",
          "output_type": "stream",
          "text": [
            "291/291 [==============================] - 120s 407ms/step - loss: 0.1287 - sparse_categorical_accuracy: 0.9726\n"
          ]
        },
        {
          "data": {
            "text/html": [
              "<br/>Waiting for W&B process to finish, PID 501... <strong style=\"color:green\">(success).</strong>"
            ],
            "text/plain": [
              "<IPython.core.display.HTML object>"
            ]
          },
          "metadata": {},
          "output_type": "display_data"
        },
        {
          "data": {
            "application/vnd.jupyter.widget-view+json": {
              "model_id": "fc9af3806a1649fbbede73c27f7faf3e",
              "version_major": 2,
              "version_minor": 0
            },
            "text/plain": [
              "VBox(children=(Label(value=' 0.00MB of 0.00MB uploaded (0.00MB deduped)\\r'), FloatProgress(value=1.0, max=1.0)…"
            ]
          },
          "metadata": {},
          "output_type": "display_data"
        },
        {
          "data": {
            "text/html": [
              "<style>\n",
              "    table.wandb td:nth-child(1) { padding: 0 10px; text-align: right }\n",
              "    .wandb-row { display: flex; flex-direction: row; flex-wrap: wrap; width: 100% }\n",
              "    .wandb-col { display: flex; flex-direction: column; flex-basis: 100%; flex: 1; padding: 10px; }\n",
              "    </style>\n",
              "<div class=\"wandb-row\"><div class=\"wandb-col\">\n",
              "<h3>Run history:</h3><br/><table class=\"wandb\"><tr><td>epoch</td><td>▁▅█</td></tr><tr><td>loss</td><td>█▄▁</td></tr><tr><td>sparse_categorical_accuracy</td><td>▁▃█</td></tr><tr><td>test_accuracy</td><td>▁</td></tr><tr><td>time-elapsed</td><td>▁</td></tr><tr><td>val_loss</td><td>▁▁█</td></tr><tr><td>val_sparse_categorical_accuracy</td><td>▄█▁</td></tr></table><br/></div><div class=\"wandb-col\">\n",
              "<h3>Run summary:</h3><br/><table class=\"wandb\"><tr><td>best_epoch</td><td>0</td></tr><tr><td>best_val_loss</td><td>0.0886</td></tr><tr><td>epoch</td><td>2</td></tr><tr><td>loss</td><td>0.03824</td></tr><tr><td>sparse_categorical_accuracy</td><td>0.98682</td></tr><tr><td>test_accuracy</td><td>0.97257</td></tr><tr><td>time-elapsed</td><td>9875.21856</td></tr><tr><td>val_loss</td><td>0.13838</td></tr><tr><td>val_sparse_categorical_accuracy</td><td>0.97244</td></tr></table>\n",
              "</div></div>\n",
              "Synced 5 W&B file(s), 1 media file(s), 0 artifact file(s) and 0 other file(s)\n",
              "<br/>Synced <strong style=\"color:#cdcd00\">fearful-poltergeist-1</strong>: <a href=\"https://wandb.ai/jueri/claim_detect_en/runs/2savg1vb\" target=\"_blank\">https://wandb.ai/jueri/claim_detect_en/runs/2savg1vb</a><br/>\n",
              "Find logs at: <code>./wandb/run-20211030_063854-2savg1vb/logs</code><br/>\n"
            ],
            "text/plain": [
              "<IPython.core.display.HTML object>"
            ]
          },
          "metadata": {},
          "output_type": "display_data"
        }
      ],
      "source": [
        "# wandb.init(project=\"jupyter-projo\")\n",
        "\n",
        "test_loss, test_accuracy = model.evaluate(encodet_test_texts, np.array(test_labels_split))\n",
        "wandb.log({'test_accuracy': test_accuracy})\n",
        "\n",
        "wandb.finish()"
      ]
    },
    {
      "cell_type": "code",
      "execution_count": null,
      "metadata": {
        "id": "9TM3zK3B6oH2"
      },
      "outputs": [],
      "source": [
        "preds = model.predict(encodet_test_texts)"
      ]
    },
    {
      "cell_type": "code",
      "execution_count": null,
      "metadata": {
        "colab": {
          "base_uri": "https://localhost:8080/"
        },
        "id": "mbYn5U0D_vie",
        "outputId": "ad135344-7bdf-4aad-b600-65d4a944666b"
      },
      "outputs": [
        {
          "data": {
            "text/plain": [
              "(924, 2)"
            ]
          },
          "execution_count": 51,
          "metadata": {},
          "output_type": "execute_result"
        }
      ],
      "source": [
        "preds.logits.shape"
      ]
    },
    {
      "cell_type": "code",
      "execution_count": null,
      "metadata": {
        "colab": {
          "base_uri": "https://localhost:8080/"
        },
        "id": "_uI4XOIW6-Am",
        "outputId": "9bf010c7-e6ce-47de-b7bc-0c915afa2fe8"
      },
      "outputs": [
        {
          "name": "stdout",
          "output_type": "stream",
          "text": [
            "(924, 2) (924,)\n"
          ]
        }
      ],
      "source": [
        "class_preds = np.argmax(preds.logits, axis=1)\n",
        "print(preds.logits.shape, class_preds.shape)"
      ]
    },
    {
      "cell_type": "markdown",
      "metadata": {
        "id": "3jXgkjA77xh5"
      },
      "source": [
        "### 6. Export model"
      ]
    },
    {
      "cell_type": "code",
      "execution_count": 40,
      "metadata": {
        "colab": {
          "base_uri": "https://localhost:8080/"
        },
        "id": "7Xp2qNlb7ymh",
        "outputId": "faffb3e7-cd5d-490c-c32f-a39a49766ce5"
      },
      "outputs": [
        {
          "data": {
            "text/plain": [
              "('drive/MyDrive/BA/fearful-poltergeist-1/tokenizer_config.json',\n",
              " 'drive/MyDrive/BA/fearful-poltergeist-1/special_tokens_map.json',\n",
              " 'drive/MyDrive/BA/fearful-poltergeist-1/vocab.txt',\n",
              " 'drive/MyDrive/BA/fearful-poltergeist-1/added_tokens.json')"
            ]
          },
          "execution_count": 40,
          "metadata": {},
          "output_type": "execute_result"
        }
      ],
      "source": [
        "model.save_pretrained(base_dir +\"/fearful-poltergeist-1\")\n",
        "tokenizer.save_pretrained(base_dir +\"/fearful-poltergeist-1\")"
      ]
    },
    {
      "cell_type": "code",
      "execution_count": null,
      "metadata": {
        "colab": {
          "base_uri": "https://localhost:8080/"
        },
        "id": "acgmwfyH7z-E",
        "outputId": "f9bcfa47-37e5-4abd-86b1-4261d14779cf"
      },
      "outputs": [
        {
          "name": "stderr",
          "output_type": "stream",
          "text": [
            "Some layers from the model checkpoint at drive/MyDrive/BA/test_output were not used when initializing TFDistilBertForSequenceClassification: ['dropout_59']\n",
            "- This IS expected if you are initializing TFDistilBertForSequenceClassification from the checkpoint of a model trained on another task or with another architecture (e.g. initializing a BertForSequenceClassification model from a BertForPreTraining model).\n",
            "- This IS NOT expected if you are initializing TFDistilBertForSequenceClassification from the checkpoint of a model that you expect to be exactly identical (initializing a BertForSequenceClassification model from a BertForSequenceClassification model).\n",
            "Some layers of TFDistilBertForSequenceClassification were not initialized from the model checkpoint at drive/MyDrive/BA/test_output and are newly initialized: ['dropout_116']\n",
            "You should probably TRAIN this model on a down-stream task to be able to use it for predictions and inference.\n"
          ]
        }
      ],
      "source": [
        "from transformers import TFDistilBertForSequenceClassification\n",
        "\n",
        "loaded_model = TFDistilBertForSequenceClassification.from_pretrained(base_dir +\"/fearful-poltergeist-1\")"
      ]
    },
    {
      "cell_type": "code",
      "execution_count": null,
      "metadata": {
        "id": "qUYuvxqBB2yr"
      },
      "outputs": [],
      "source": [
        "preds_loaded = loaded_model.predict(encodet_test_texts)"
      ]
    },
    {
      "cell_type": "code",
      "execution_count": null,
      "metadata": {
        "id": "fGxPW5bVCCCV"
      },
      "outputs": [],
      "source": [
        "class_preds = np.argmax(preds_loaded.logits, axis=1)"
      ]
    }
  ],
  "metadata": {
    "accelerator": "GPU",
    "colab": {
      "collapsed_sections": [],
      "name": "claim_model_BERT.ipynb",
      "provenance": []
    },
    "kernelspec": {
      "display_name": "Python 3",
      "name": "python3"
    },
    "language_info": {
      "name": "python"
    },
    "widgets": {
      "application/vnd.jupyter.widget-state+json": {
        "140c4a9545244c768fec4258746a8021": {
          "model_module": "@jupyter-widgets/controls",
          "model_module_version": "1.5.0",
          "model_name": "HTMLModel",
          "state": {
            "_dom_classes": [],
            "_model_module": "@jupyter-widgets/controls",
            "_model_module_version": "1.5.0",
            "_model_name": "HTMLModel",
            "_view_count": null,
            "_view_module": "@jupyter-widgets/controls",
            "_view_module_version": "1.5.0",
            "_view_name": "HTMLView",
            "description": "",
            "description_tooltip": null,
            "layout": "IPY_MODEL_d3480e732e1d4e67a5248326623620be",
            "placeholder": "​",
            "style": "IPY_MODEL_96d30834770f4809939eead3ec291256",
            "value": " 347M/347M [00:12&lt;00:00, 30.3MB/s]"
          }
        },
        "1f2c9f90e3be43218aef4edcd150971c": {
          "model_module": "@jupyter-widgets/controls",
          "model_module_version": "1.5.0",
          "model_name": "FloatProgressModel",
          "state": {
            "_dom_classes": [],
            "_model_module": "@jupyter-widgets/controls",
            "_model_module_version": "1.5.0",
            "_model_name": "FloatProgressModel",
            "_view_count": null,
            "_view_module": "@jupyter-widgets/controls",
            "_view_module_version": "1.5.0",
            "_view_name": "ProgressView",
            "bar_style": "",
            "description": "",
            "description_tooltip": null,
            "layout": "IPY_MODEL_bf0d92ff81b541c0aaa34d108fda202c",
            "max": 1,
            "min": 0,
            "orientation": "horizontal",
            "style": "IPY_MODEL_c64287aef95b49428f221847cc0462a9",
            "value": 1
          }
        },
        "3534cf2e22e049d6bffba0d9158e8146": {
          "model_module": "@jupyter-widgets/controls",
          "model_module_version": "1.5.0",
          "model_name": "HBoxModel",
          "state": {
            "_dom_classes": [],
            "_model_module": "@jupyter-widgets/controls",
            "_model_module_version": "1.5.0",
            "_model_name": "HBoxModel",
            "_view_count": null,
            "_view_module": "@jupyter-widgets/controls",
            "_view_module_version": "1.5.0",
            "_view_name": "HBoxView",
            "box_style": "",
            "children": [
              "IPY_MODEL_c77cad5a35974adba500ce3b3f019022",
              "IPY_MODEL_baa60c314ef746d3a3630fd79f39465f",
              "IPY_MODEL_140c4a9545244c768fec4258746a8021"
            ],
            "layout": "IPY_MODEL_a1376c0da5914d3c81014f0f7edc89f4"
          }
        },
        "4037cf4104054b698495c9a11dc79d51": {
          "model_module": "@jupyter-widgets/base",
          "model_module_version": "1.2.0",
          "model_name": "LayoutModel",
          "state": {
            "_model_module": "@jupyter-widgets/base",
            "_model_module_version": "1.2.0",
            "_model_name": "LayoutModel",
            "_view_count": null,
            "_view_module": "@jupyter-widgets/base",
            "_view_module_version": "1.2.0",
            "_view_name": "LayoutView",
            "align_content": null,
            "align_items": null,
            "align_self": null,
            "border": null,
            "bottom": null,
            "display": null,
            "flex": null,
            "flex_flow": null,
            "grid_area": null,
            "grid_auto_columns": null,
            "grid_auto_flow": null,
            "grid_auto_rows": null,
            "grid_column": null,
            "grid_gap": null,
            "grid_row": null,
            "grid_template_areas": null,
            "grid_template_columns": null,
            "grid_template_rows": null,
            "height": null,
            "justify_content": null,
            "justify_items": null,
            "left": null,
            "margin": null,
            "max_height": null,
            "max_width": null,
            "min_height": null,
            "min_width": null,
            "object_fit": null,
            "object_position": null,
            "order": null,
            "overflow": null,
            "overflow_x": null,
            "overflow_y": null,
            "padding": null,
            "right": null,
            "top": null,
            "visibility": null,
            "width": null
          }
        },
        "520a2cb5346043e6bdf668732c1281a7": {
          "model_module": "@jupyter-widgets/base",
          "model_module_version": "1.2.0",
          "model_name": "LayoutModel",
          "state": {
            "_model_module": "@jupyter-widgets/base",
            "_model_module_version": "1.2.0",
            "_model_name": "LayoutModel",
            "_view_count": null,
            "_view_module": "@jupyter-widgets/base",
            "_view_module_version": "1.2.0",
            "_view_name": "LayoutView",
            "align_content": null,
            "align_items": null,
            "align_self": null,
            "border": null,
            "bottom": null,
            "display": null,
            "flex": null,
            "flex_flow": null,
            "grid_area": null,
            "grid_auto_columns": null,
            "grid_auto_flow": null,
            "grid_auto_rows": null,
            "grid_column": null,
            "grid_gap": null,
            "grid_row": null,
            "grid_template_areas": null,
            "grid_template_columns": null,
            "grid_template_rows": null,
            "height": null,
            "justify_content": null,
            "justify_items": null,
            "left": null,
            "margin": null,
            "max_height": null,
            "max_width": null,
            "min_height": null,
            "min_width": null,
            "object_fit": null,
            "object_position": null,
            "order": null,
            "overflow": null,
            "overflow_x": null,
            "overflow_y": null,
            "padding": null,
            "right": null,
            "top": null,
            "visibility": null,
            "width": null
          }
        },
        "8c30661d98fb43a1a0d014017cb6084b": {
          "model_module": "@jupyter-widgets/base",
          "model_module_version": "1.2.0",
          "model_name": "LayoutModel",
          "state": {
            "_model_module": "@jupyter-widgets/base",
            "_model_module_version": "1.2.0",
            "_model_name": "LayoutModel",
            "_view_count": null,
            "_view_module": "@jupyter-widgets/base",
            "_view_module_version": "1.2.0",
            "_view_name": "LayoutView",
            "align_content": null,
            "align_items": null,
            "align_self": null,
            "border": null,
            "bottom": null,
            "display": null,
            "flex": null,
            "flex_flow": null,
            "grid_area": null,
            "grid_auto_columns": null,
            "grid_auto_flow": null,
            "grid_auto_rows": null,
            "grid_column": null,
            "grid_gap": null,
            "grid_row": null,
            "grid_template_areas": null,
            "grid_template_columns": null,
            "grid_template_rows": null,
            "height": null,
            "justify_content": null,
            "justify_items": null,
            "left": null,
            "margin": null,
            "max_height": null,
            "max_width": null,
            "min_height": null,
            "min_width": null,
            "object_fit": null,
            "object_position": null,
            "order": null,
            "overflow": null,
            "overflow_x": null,
            "overflow_y": null,
            "padding": null,
            "right": null,
            "top": null,
            "visibility": null,
            "width": null
          }
        },
        "96d30834770f4809939eead3ec291256": {
          "model_module": "@jupyter-widgets/controls",
          "model_module_version": "1.5.0",
          "model_name": "DescriptionStyleModel",
          "state": {
            "_model_module": "@jupyter-widgets/controls",
            "_model_module_version": "1.5.0",
            "_model_name": "DescriptionStyleModel",
            "_view_count": null,
            "_view_module": "@jupyter-widgets/base",
            "_view_module_version": "1.2.0",
            "_view_name": "StyleView",
            "description_width": ""
          }
        },
        "a1376c0da5914d3c81014f0f7edc89f4": {
          "model_module": "@jupyter-widgets/base",
          "model_module_version": "1.2.0",
          "model_name": "LayoutModel",
          "state": {
            "_model_module": "@jupyter-widgets/base",
            "_model_module_version": "1.2.0",
            "_model_name": "LayoutModel",
            "_view_count": null,
            "_view_module": "@jupyter-widgets/base",
            "_view_module_version": "1.2.0",
            "_view_name": "LayoutView",
            "align_content": null,
            "align_items": null,
            "align_self": null,
            "border": null,
            "bottom": null,
            "display": null,
            "flex": null,
            "flex_flow": null,
            "grid_area": null,
            "grid_auto_columns": null,
            "grid_auto_flow": null,
            "grid_auto_rows": null,
            "grid_column": null,
            "grid_gap": null,
            "grid_row": null,
            "grid_template_areas": null,
            "grid_template_columns": null,
            "grid_template_rows": null,
            "height": null,
            "justify_content": null,
            "justify_items": null,
            "left": null,
            "margin": null,
            "max_height": null,
            "max_width": null,
            "min_height": null,
            "min_width": null,
            "object_fit": null,
            "object_position": null,
            "order": null,
            "overflow": null,
            "overflow_x": null,
            "overflow_y": null,
            "padding": null,
            "right": null,
            "top": null,
            "visibility": null,
            "width": null
          }
        },
        "b6c6b87eda1448f6b8485f58c6b9f2e6": {
          "model_module": "@jupyter-widgets/controls",
          "model_module_version": "1.5.0",
          "model_name": "ProgressStyleModel",
          "state": {
            "_model_module": "@jupyter-widgets/controls",
            "_model_module_version": "1.5.0",
            "_model_name": "ProgressStyleModel",
            "_view_count": null,
            "_view_module": "@jupyter-widgets/base",
            "_view_module_version": "1.2.0",
            "_view_name": "StyleView",
            "bar_color": null,
            "description_width": ""
          }
        },
        "b90db1306a2746ae8a2a2d56f78bfd5a": {
          "model_module": "@jupyter-widgets/controls",
          "model_module_version": "1.5.0",
          "model_name": "DescriptionStyleModel",
          "state": {
            "_model_module": "@jupyter-widgets/controls",
            "_model_module_version": "1.5.0",
            "_model_name": "DescriptionStyleModel",
            "_view_count": null,
            "_view_module": "@jupyter-widgets/base",
            "_view_module_version": "1.2.0",
            "_view_name": "StyleView",
            "description_width": ""
          }
        },
        "baa60c314ef746d3a3630fd79f39465f": {
          "model_module": "@jupyter-widgets/controls",
          "model_module_version": "1.5.0",
          "model_name": "FloatProgressModel",
          "state": {
            "_dom_classes": [],
            "_model_module": "@jupyter-widgets/controls",
            "_model_module_version": "1.5.0",
            "_model_name": "FloatProgressModel",
            "_view_count": null,
            "_view_module": "@jupyter-widgets/controls",
            "_view_module_version": "1.5.0",
            "_view_name": "ProgressView",
            "bar_style": "success",
            "description": "",
            "description_tooltip": null,
            "layout": "IPY_MODEL_520a2cb5346043e6bdf668732c1281a7",
            "max": 363423424,
            "min": 0,
            "orientation": "horizontal",
            "style": "IPY_MODEL_b6c6b87eda1448f6b8485f58c6b9f2e6",
            "value": 363423424
          }
        },
        "bdbd6203126f4dd19d1e4a5709fe9590": {
          "model_module": "@jupyter-widgets/controls",
          "model_module_version": "1.5.0",
          "model_name": "DescriptionStyleModel",
          "state": {
            "_model_module": "@jupyter-widgets/controls",
            "_model_module_version": "1.5.0",
            "_model_name": "DescriptionStyleModel",
            "_view_count": null,
            "_view_module": "@jupyter-widgets/base",
            "_view_module_version": "1.2.0",
            "_view_name": "StyleView",
            "description_width": ""
          }
        },
        "bf0d92ff81b541c0aaa34d108fda202c": {
          "model_module": "@jupyter-widgets/base",
          "model_module_version": "1.2.0",
          "model_name": "LayoutModel",
          "state": {
            "_model_module": "@jupyter-widgets/base",
            "_model_module_version": "1.2.0",
            "_model_name": "LayoutModel",
            "_view_count": null,
            "_view_module": "@jupyter-widgets/base",
            "_view_module_version": "1.2.0",
            "_view_name": "LayoutView",
            "align_content": null,
            "align_items": null,
            "align_self": null,
            "border": null,
            "bottom": null,
            "display": null,
            "flex": null,
            "flex_flow": null,
            "grid_area": null,
            "grid_auto_columns": null,
            "grid_auto_flow": null,
            "grid_auto_rows": null,
            "grid_column": null,
            "grid_gap": null,
            "grid_row": null,
            "grid_template_areas": null,
            "grid_template_columns": null,
            "grid_template_rows": null,
            "height": null,
            "justify_content": null,
            "justify_items": null,
            "left": null,
            "margin": null,
            "max_height": null,
            "max_width": null,
            "min_height": null,
            "min_width": null,
            "object_fit": null,
            "object_position": null,
            "order": null,
            "overflow": null,
            "overflow_x": null,
            "overflow_y": null,
            "padding": null,
            "right": null,
            "top": null,
            "visibility": null,
            "width": null
          }
        },
        "c64287aef95b49428f221847cc0462a9": {
          "model_module": "@jupyter-widgets/controls",
          "model_module_version": "1.5.0",
          "model_name": "ProgressStyleModel",
          "state": {
            "_model_module": "@jupyter-widgets/controls",
            "_model_module_version": "1.5.0",
            "_model_name": "ProgressStyleModel",
            "_view_count": null,
            "_view_module": "@jupyter-widgets/base",
            "_view_module_version": "1.2.0",
            "_view_name": "StyleView",
            "bar_color": null,
            "description_width": ""
          }
        },
        "c77cad5a35974adba500ce3b3f019022": {
          "model_module": "@jupyter-widgets/controls",
          "model_module_version": "1.5.0",
          "model_name": "HTMLModel",
          "state": {
            "_dom_classes": [],
            "_model_module": "@jupyter-widgets/controls",
            "_model_module_version": "1.5.0",
            "_model_name": "HTMLModel",
            "_view_count": null,
            "_view_module": "@jupyter-widgets/controls",
            "_view_module_version": "1.5.0",
            "_view_name": "HTMLView",
            "description": "",
            "description_tooltip": null,
            "layout": "IPY_MODEL_4037cf4104054b698495c9a11dc79d51",
            "placeholder": "​",
            "style": "IPY_MODEL_b90db1306a2746ae8a2a2d56f78bfd5a",
            "value": "Downloading: 100%"
          }
        },
        "d3480e732e1d4e67a5248326623620be": {
          "model_module": "@jupyter-widgets/base",
          "model_module_version": "1.2.0",
          "model_name": "LayoutModel",
          "state": {
            "_model_module": "@jupyter-widgets/base",
            "_model_module_version": "1.2.0",
            "_model_name": "LayoutModel",
            "_view_count": null,
            "_view_module": "@jupyter-widgets/base",
            "_view_module_version": "1.2.0",
            "_view_name": "LayoutView",
            "align_content": null,
            "align_items": null,
            "align_self": null,
            "border": null,
            "bottom": null,
            "display": null,
            "flex": null,
            "flex_flow": null,
            "grid_area": null,
            "grid_auto_columns": null,
            "grid_auto_flow": null,
            "grid_auto_rows": null,
            "grid_column": null,
            "grid_gap": null,
            "grid_row": null,
            "grid_template_areas": null,
            "grid_template_columns": null,
            "grid_template_rows": null,
            "height": null,
            "justify_content": null,
            "justify_items": null,
            "left": null,
            "margin": null,
            "max_height": null,
            "max_width": null,
            "min_height": null,
            "min_width": null,
            "object_fit": null,
            "object_position": null,
            "order": null,
            "overflow": null,
            "overflow_x": null,
            "overflow_y": null,
            "padding": null,
            "right": null,
            "top": null,
            "visibility": null,
            "width": null
          }
        },
        "ec7ba3ff6b034aa28ab3f5ba2ac79853": {
          "model_module": "@jupyter-widgets/controls",
          "model_module_version": "1.5.0",
          "model_name": "LabelModel",
          "state": {
            "_dom_classes": [],
            "_model_module": "@jupyter-widgets/controls",
            "_model_module_version": "1.5.0",
            "_model_name": "LabelModel",
            "_view_count": null,
            "_view_module": "@jupyter-widgets/controls",
            "_view_module_version": "1.5.0",
            "_view_name": "LabelView",
            "description": "",
            "description_tooltip": null,
            "layout": "IPY_MODEL_8c30661d98fb43a1a0d014017cb6084b",
            "placeholder": "​",
            "style": "IPY_MODEL_bdbd6203126f4dd19d1e4a5709fe9590",
            "value": " 0.02MB of 0.02MB uploaded (0.00MB deduped)\r"
          }
        },
        "fb8ac56bb7fe460d90de232f4561c503": {
          "model_module": "@jupyter-widgets/base",
          "model_module_version": "1.2.0",
          "model_name": "LayoutModel",
          "state": {
            "_model_module": "@jupyter-widgets/base",
            "_model_module_version": "1.2.0",
            "_model_name": "LayoutModel",
            "_view_count": null,
            "_view_module": "@jupyter-widgets/base",
            "_view_module_version": "1.2.0",
            "_view_name": "LayoutView",
            "align_content": null,
            "align_items": null,
            "align_self": null,
            "border": null,
            "bottom": null,
            "display": null,
            "flex": null,
            "flex_flow": null,
            "grid_area": null,
            "grid_auto_columns": null,
            "grid_auto_flow": null,
            "grid_auto_rows": null,
            "grid_column": null,
            "grid_gap": null,
            "grid_row": null,
            "grid_template_areas": null,
            "grid_template_columns": null,
            "grid_template_rows": null,
            "height": null,
            "justify_content": null,
            "justify_items": null,
            "left": null,
            "margin": null,
            "max_height": null,
            "max_width": null,
            "min_height": null,
            "min_width": null,
            "object_fit": null,
            "object_position": null,
            "order": null,
            "overflow": null,
            "overflow_x": null,
            "overflow_y": null,
            "padding": null,
            "right": null,
            "top": null,
            "visibility": null,
            "width": null
          }
        },
        "fc9af3806a1649fbbede73c27f7faf3e": {
          "model_module": "@jupyter-widgets/controls",
          "model_module_version": "1.5.0",
          "model_name": "VBoxModel",
          "state": {
            "_dom_classes": [],
            "_model_module": "@jupyter-widgets/controls",
            "_model_module_version": "1.5.0",
            "_model_name": "VBoxModel",
            "_view_count": null,
            "_view_module": "@jupyter-widgets/controls",
            "_view_module_version": "1.5.0",
            "_view_name": "VBoxView",
            "box_style": "",
            "children": [
              "IPY_MODEL_ec7ba3ff6b034aa28ab3f5ba2ac79853",
              "IPY_MODEL_1f2c9f90e3be43218aef4edcd150971c"
            ],
            "layout": "IPY_MODEL_fb8ac56bb7fe460d90de232f4561c503"
          }
        }
      }
    }
  },
  "nbformat": 4,
  "nbformat_minor": 0
}
