{
  "cells": [
    {
      "cell_type": "markdown",
      "metadata": {
        "id": "micGWFxfsDZ4"
      },
      "source": [
        "# BERT\n",
        "___\n",
        "\n",
        "This model is based on:\n",
        "\n",
        "```Bibtex\n",
        "@article{toledo-ronenMultilingualArgumentMining2020,\n",
        "  title = {Multilingual Argument Mining: {{Datasets}} and Analysis},\n",
        "  author = {Toledo-Ronen, Orith and Orbach, Matan and Bilu, Yonatan and Spector, Artem and Slonim, Noam},\n",
        "  date = {2020},\n",
        "  url = {https://arxiv.org/abs/2010.06432},\n",
        "}\n",
        "```"
      ]
    },
    {
      "cell_type": "code",
      "source": [
        "from google.colab import drive"
      ],
      "metadata": {
        "id": "Y5pYXOrKUCcQ"
      },
      "execution_count": 3,
      "outputs": []
    },
    {
      "cell_type": "code",
      "source": [
        "drive.mount('/content/drive')  # connect to google drive\n",
        "base_dir = \"drive/MyDrive/claim_model_comparison\""
      ],
      "metadata": {
        "colab": {
          "base_uri": "https://localhost:8080/"
        },
        "id": "Lr6m85NfUBOQ",
        "outputId": "2e00c237-33db-4c22-f43a-a805454b041c"
      },
      "execution_count": 4,
      "outputs": [
        {
          "output_type": "stream",
          "name": "stdout",
          "text": [
            "Mounted at /content/drive\n"
          ]
        }
      ]
    },
    {
      "cell_type": "code",
      "execution_count": 1,
      "metadata": {
        "id": "2ALqGZ0_TzBa"
      },
      "outputs": [],
      "source": [
        "%%capture\n",
        "! pip install transformers\n",
        "! pip install wandb"
      ]
    },
    {
      "cell_type": "code",
      "execution_count": 57,
      "metadata": {
        "id": "mlAsZxQ6zhwP"
      },
      "outputs": [],
      "source": [
        "import os\n",
        "import pandas as pd\n",
        "import numpy as np\n",
        "import random\n",
        "import timeit\n",
        "import matplotlib.pyplot as plt\n",
        "\n",
        "from sklearn.model_selection import train_test_split\n",
        "from sklearn.metrics import classification_report, f1_score, precision_score, recall_score, accuracy_score\n",
        "\n",
        "\n",
        "from transformers import DistilBertTokenizer\n",
        "from transformers import TFDistilBertForSequenceClassification\n",
        "\n",
        "import tensorflow as tf\n",
        "\n",
        "import wandb\n",
        "from wandb.keras import WandbCallback\n"
      ]
    },
    {
      "cell_type": "code",
      "source": [
        "def load_dataset(dataset_path: str, split_size: float=0.2, false_class_balance: float=1.0) -> pd.DataFrame:\n",
        "    \"\"\"Function to load the dataset.\n",
        "\n",
        "    Returns:\n",
        "        X_train (DatFrame): Train data\n",
        "        X_test (DatFrame): Test data\n",
        "        y_train (DatFrame): Train label\n",
        "        y_test (DatFrame): Test label\n",
        "    \"\"\"\n",
        "    data = pd.read_csv(os.path.join(dataset_path))  # load Data\n",
        "\n",
        "    claims = data[data[\"Claim\"] == True]\n",
        "\n",
        "    n_samples = int(len(claims) * false_class_balance)\n",
        "    no_claims = data[data[\"Claim\"] == False].sample(n=n_samples, random_state=42)\n",
        "    data_sample = pd.concat([claims, no_claims])\n",
        "\n",
        "    X_train, X_test, y_train, y_test = train_test_split(\n",
        "        data_sample, data_sample[\"Claim\"], test_size=split_size, random_state=0\n",
        "    )\n",
        "    return X_train, X_test, y_train, y_test"
      ],
      "metadata": {
        "id": "uygJUAsrUVaq"
      },
      "execution_count": 37,
      "outputs": []
    },
    {
      "cell_type": "code",
      "execution_count": 38,
      "metadata": {
        "id": "RGHKJBFH1gnj"
      },
      "outputs": [],
      "source": [
        "MODEL_NAME = \"distilbert-base-uncased\"\n",
        "TRACKING = True\n",
        "FALSE_CLASS_BALANCE = 1.0\n",
        "DATASET_2014_PATH = os.path.join(base_dir, \"CE-ACL_processed.csv\")\n",
        "DATASET_2018_PATH = os.path.join(base_dir, \"claim_sentence_search.csv\")\n",
        "DATASET_2014_NAME = \"IBM_Debater_(R)_CE-ACL-2014.v0\"\n",
        "DATASET_2018_NAME = \"IBM_Debater_(R)_claim_sentences_search\"\n",
        "PROJECT_NAME = \"Claim detection models\""
      ]
    },
    {
      "cell_type": "markdown",
      "metadata": {
        "id": "BcLuKX2kzwOm"
      },
      "source": [
        "### 0. Load data"
      ]
    },
    {
      "cell_type": "code",
      "execution_count": 39,
      "metadata": {
        "id": "7l7ietPr0gtc"
      },
      "outputs": [],
      "source": [
        "train_text_split, X_test, train_labels_split, y_test = load_dataset(dataset_path=DATASET_2014_PATH, false_class_balance=FALSE_CLASS_BALANCE)"
      ]
    },
    {
      "cell_type": "code",
      "source": [
        "y_train = train_labels_split.apply(lambda x: 0 if x==False else 1)\n",
        "y_test = y_test.apply(lambda x: 0 if x==False else 1)"
      ],
      "metadata": {
        "id": "CHEq3e7GUnVw"
      },
      "execution_count": 40,
      "outputs": []
    },
    {
      "cell_type": "code",
      "source": [
        "X_train, X_val, y_train, y_val = train_test_split(train_text_split, train_labels_split, test_size=.2, random_state=42) # train/test"
      ],
      "metadata": {
        "id": "OtWqqTmuVA4I"
      },
      "execution_count": 41,
      "outputs": []
    },
    {
      "cell_type": "markdown",
      "metadata": {
        "id": "Qm9N5TSc0-kN"
      },
      "source": [
        "### 1. Prepare dataset"
      ]
    },
    {
      "cell_type": "code",
      "execution_count": 42,
      "metadata": {
        "id": "YGJvxlV-1PR9"
      },
      "outputs": [],
      "source": [
        "tokenizer = DistilBertTokenizer.from_pretrained(MODEL_NAME) # load tokenizer"
      ]
    },
    {
      "cell_type": "code",
      "execution_count": 43,
      "metadata": {
        "id": "EVLRzFYK1AXe"
      },
      "outputs": [],
      "source": [
        "def tokenize_dataset(dataset):\n",
        "    \"\"\"Tokenize a list of strings for the BERT model.\"\"\"\n",
        "    encoded = tokenizer(\n",
        "        dataset,\n",
        "        padding=True,\n",
        "        truncation=True,\n",
        "        return_tensors='np',\n",
        "    )\n",
        "    return encoded.data"
      ]
    },
    {
      "cell_type": "code",
      "execution_count": 44,
      "metadata": {
        "id": "VB1G87J22EeC"
      },
      "outputs": [],
      "source": [
        "encodet_train_text = tokenize_dataset(X_train[\"Sentence\"].to_list())\n",
        "encodet_val_texts = tokenize_dataset(X_val[\"Sentence\"].to_list())\n",
        "encodet_test_texts = tokenize_dataset(X_test[\"Sentence\"].to_list())"
      ]
    },
    {
      "cell_type": "markdown",
      "metadata": {
        "id": "poSIdU5z21Zp"
      },
      "source": [
        "### 2. Create Model"
      ]
    },
    {
      "cell_type": "code",
      "execution_count": 45,
      "metadata": {
        "colab": {
          "base_uri": "https://localhost:8080/"
        },
        "id": "rJRSd_NK2TIn",
        "outputId": "cb40b730-cbf0-44e2-fd87-15a2fad0370f"
      },
      "outputs": [
        {
          "output_type": "stream",
          "name": "stderr",
          "text": [
            "Some layers from the model checkpoint at distilbert-base-uncased were not used when initializing TFDistilBertForSequenceClassification: ['vocab_transform', 'activation_13', 'vocab_projector', 'vocab_layer_norm']\n",
            "- This IS expected if you are initializing TFDistilBertForSequenceClassification from the checkpoint of a model trained on another task or with another architecture (e.g. initializing a BertForSequenceClassification model from a BertForPreTraining model).\n",
            "- This IS NOT expected if you are initializing TFDistilBertForSequenceClassification from the checkpoint of a model that you expect to be exactly identical (initializing a BertForSequenceClassification model from a BertForSequenceClassification model).\n",
            "Some layers of TFDistilBertForSequenceClassification were not initialized from the model checkpoint at distilbert-base-uncased and are newly initialized: ['classifier', 'dropout_59', 'pre_classifier']\n",
            "You should probably TRAIN this model on a down-stream task to be able to use it for predictions and inference.\n"
          ]
        }
      ],
      "source": [
        "model = TFDistilBertForSequenceClassification.from_pretrained(MODEL_NAME, num_labels=2)  # Load model"
      ]
    },
    {
      "cell_type": "code",
      "execution_count": 46,
      "metadata": {
        "id": "AQJDmZpJz1MV"
      },
      "outputs": [],
      "source": [
        "# Set hyperparameter\n",
        "learning_rate = 5e-5\n",
        "epochs = 5\n",
        "batch_size = 16"
      ]
    },
    {
      "cell_type": "code",
      "execution_count": 60,
      "metadata": {
        "colab": {
          "base_uri": "https://localhost:8080/"
        },
        "id": "s3tjSo2C9U5J",
        "outputId": "78e13834-0bb0-49e6-8160-6ab93b98a133"
      },
      "outputs": [
        {
          "output_type": "stream",
          "name": "stderr",
          "text": [
            "Some layers from the model checkpoint at distilbert-base-uncased were not used when initializing TFDistilBertForSequenceClassification: ['vocab_transform', 'activation_13', 'vocab_projector', 'vocab_layer_norm']\n",
            "- This IS expected if you are initializing TFDistilBertForSequenceClassification from the checkpoint of a model trained on another task or with another architecture (e.g. initializing a BertForSequenceClassification model from a BertForPreTraining model).\n",
            "- This IS NOT expected if you are initializing TFDistilBertForSequenceClassification from the checkpoint of a model that you expect to be exactly identical (initializing a BertForSequenceClassification model from a BertForSequenceClassification model).\n",
            "Some layers of TFDistilBertForSequenceClassification were not initialized from the model checkpoint at distilbert-base-uncased and are newly initialized: ['classifier', 'dropout_99', 'pre_classifier']\n",
            "You should probably TRAIN this model on a down-stream task to be able to use it for predictions and inference.\n"
          ]
        }
      ],
      "source": [
        "model = TFDistilBertForSequenceClassification.from_pretrained(MODEL_NAME, num_labels=2)\n",
        "\n",
        "loss = tf.keras.losses.SparseCategoricalCrossentropy(from_logits=False),\n",
        "\n",
        "optimizer = tf.keras.optimizers.Adam(learning_rate=learning_rate)"
      ]
    },
    {
      "cell_type": "code",
      "execution_count": 61,
      "metadata": {
        "id": "-UojN-kl9PyA"
      },
      "outputs": [],
      "source": [
        "model.compile(\n",
        "    optimizer=optimizer, \n",
        "    loss=model.compute_loss,\n",
        "    metrics=tf.metrics.SparseCategoricalAccuracy(),\n",
        "    )"
      ]
    },
    {
      "cell_type": "code",
      "source": [
        "model.summary()"
      ],
      "metadata": {
        "colab": {
          "base_uri": "https://localhost:8080/"
        },
        "id": "yBgliU46aoB7",
        "outputId": "07a2e09e-e4c4-4a48-efc2-4928a6ebb7c8"
      },
      "execution_count": 62,
      "outputs": [
        {
          "output_type": "stream",
          "name": "stdout",
          "text": [
            "Model: \"tf_distil_bert_for_sequence_classification_4\"\n",
            "_________________________________________________________________\n",
            " Layer (type)                Output Shape              Param #   \n",
            "=================================================================\n",
            " distilbert (TFDistilBertMai  multiple                 66362880  \n",
            " nLayer)                                                         \n",
            "                                                                 \n",
            " pre_classifier (Dense)      multiple                  590592    \n",
            "                                                                 \n",
            " classifier (Dense)          multiple                  1538      \n",
            "                                                                 \n",
            " dropout_99 (Dropout)        multiple                  0         \n",
            "                                                                 \n",
            "=================================================================\n",
            "Total params: 66,955,010\n",
            "Trainable params: 66,955,010\n",
            "Non-trainable params: 0\n",
            "_________________________________________________________________\n"
          ]
        }
      ]
    },
    {
      "cell_type": "markdown",
      "metadata": {
        "id": "fjswBP3h3Wmj"
      },
      "source": [
        "### 3. Train model"
      ]
    },
    {
      "cell_type": "code",
      "execution_count": 63,
      "metadata": {
        "colab": {
          "base_uri": "https://localhost:8080/",
          "height": 34
        },
        "id": "-nENT7JA0SXB",
        "outputId": "9f622b5e-1c57-4517-ab49-4bf5554c44d1"
      },
      "outputs": [
        {
          "output_type": "display_data",
          "data": {
            "text/html": [
              "\n",
              "                    Syncing run <strong><a href=\"https://wandb.ai/jueri/Claim%20detection%20models/runs/3oc7i5t3\" target=\"_blank\">apricot-moon-11</a></strong> to <a href=\"https://wandb.ai/jueri/Claim%20detection%20models\" target=\"_blank\">Weights & Biases</a> (<a href=\"https://docs.wandb.com/integrations/jupyter.html\" target=\"_blank\">docs</a>).<br/>\n",
              "\n",
              "                "
            ],
            "text/plain": [
              "<IPython.core.display.HTML object>"
            ]
          },
          "metadata": {}
        }
      ],
      "source": [
        "if TRACKING:\n",
        "  report = []\n",
        "  model.summary(print_fn=lambda x: report.append(x))\n",
        "\n",
        "  wandb.init(project=PROJECT_NAME,\n",
        "          config={\n",
        "              \"model\": MODEL_NAME,\n",
        "              \"setup\": \"\\n\".join(report),\n",
        "              \"dataset\": DATASET_2014_NAME,\n",
        "              \"train_data_size\": len(X_train),\n",
        "              \"validation_data_size\": len(X_val),\n",
        "              \"test_data_size\": len(X_test),\n",
        "              \"batch_size\": batch_size,\n",
        "              \"learning_rate\": learning_rate,\n",
        "              \"epochs\": epochs,\n",
        "              \"false_class_balance\": FALSE_CLASS_BALANCE\n",
        "          })"
      ]
    },
    {
      "cell_type": "code",
      "execution_count": 64,
      "metadata": {
        "colab": {
          "base_uri": "https://localhost:8080/"
        },
        "id": "bNyhJ4Z39CPI",
        "outputId": "1da0cf9a-adf5-467a-b175-a429432a3634"
      },
      "outputs": [
        {
          "output_type": "stream",
          "name": "stdout",
          "text": [
            "Epoch 1/5\n",
            " 6/99 [>.............................] - ETA: 1:05 - loss: 0.6930 - sparse_categorical_accuracy: 0.5208WARNING:tensorflow:Callback method `on_train_batch_end` is slow compared to the batch time (batch time: 0.2666s vs `on_train_batch_end` time: 0.4370s). Check your callbacks.\n",
            "99/99 [==============================] - ETA: 0s - loss: 0.5136 - sparse_categorical_accuracy: 0.7568"
          ]
        },
        {
          "output_type": "stream",
          "name": "stderr",
          "text": [
            "\u001b[34m\u001b[1mwandb\u001b[0m: \u001b[32m\u001b[41mERROR\u001b[0m Can't save model, h5py returned error: Saving the model to HDF5 format requires the model to be a Functional model or a Sequential model. It does not work for subclassed models, because such models are defined via the body of a Python method, which isn't safely serializable. Consider saving to the Tensorflow SavedModel format (by setting save_format=\"tf\") or using `save_weights`.\n"
          ]
        },
        {
          "output_type": "stream",
          "name": "stdout",
          "text": [
            "\b\b\b\b\b\b\b\b\b\b\b\b\b\b\b\b\b\b\b\b\b\b\b\b\b\b\b\b\b\b\b\b\b\b\b\b\b\b\b\b\b\b\b\b\b\b\b\b\b\b\b\b\b\b\b\b\b\b\b\b\b\b\b\b\b\b\b\b\b\b\b\b\b\b\b\b\b\b\b\b\b\b\b\b\b\b\b\b\b\b\b\b\b\b\b\b\b\b\b\b\b\r99/99 [==============================] - 90s 781ms/step - loss: 0.5136 - sparse_categorical_accuracy: 0.7568 - val_loss: 0.4958 - val_sparse_categorical_accuracy: 0.7671\n",
            "Epoch 2/5\n",
            "99/99 [==============================] - 74s 749ms/step - loss: 0.3108 - sparse_categorical_accuracy: 0.8778 - val_loss: 0.5216 - val_sparse_categorical_accuracy: 0.7595\n",
            "Epoch 3/5\n",
            "99/99 [==============================] - 74s 750ms/step - loss: 0.1348 - sparse_categorical_accuracy: 0.9588 - val_loss: 0.6259 - val_sparse_categorical_accuracy: 0.8076\n",
            "Epoch 4/5\n",
            "99/99 [==============================] - 74s 751ms/step - loss: 0.0699 - sparse_categorical_accuracy: 0.9753 - val_loss: 0.7205 - val_sparse_categorical_accuracy: 0.7924\n",
            "Epoch 5/5\n",
            "99/99 [==============================] - 74s 751ms/step - loss: 0.0363 - sparse_categorical_accuracy: 0.9892 - val_loss: 0.9283 - val_sparse_categorical_accuracy: 0.7646\n"
          ]
        }
      ],
      "source": [
        "history = model.fit(\n",
        "      encodet_train_text,\n",
        "      np.array(y_train), \n",
        "      validation_data=(encodet_val_texts, np.array(y_val)),\n",
        "      epochs=epochs, \n",
        "      batch_size=batch_size,\n",
        "      callbacks=[WandbCallback()])\n",
        "\n",
        "stop = timeit.default_timer()"
      ]
    },
    {
      "cell_type": "markdown",
      "metadata": {
        "id": "KSkPio_k73c3"
      },
      "source": [
        "### 4. Evaluate results"
      ]
    },
    {
      "cell_type": "code",
      "execution_count": 65,
      "metadata": {
        "colab": {
          "base_uri": "https://localhost:8080/"
        },
        "id": "wtqmrwmx75Kt",
        "outputId": "36751917-6080-4057-b7bf-1b8b81a13b49"
      },
      "outputs": [
        {
          "output_type": "stream",
          "name": "stdout",
          "text": [
            "16/16 [==============================] - 7s 340ms/step - loss: 0.6665 - sparse_categorical_accuracy: 0.8198\n"
          ]
        }
      ],
      "source": [
        "test_loss, test_accuracy = model.evaluate(encodet_test_texts, np.array(y_test))"
      ]
    },
    {
      "cell_type": "code",
      "execution_count": 66,
      "metadata": {
        "id": "9TM3zK3B6oH2"
      },
      "outputs": [],
      "source": [
        "preds = model.predict(encodet_test_texts)"
      ]
    },
    {
      "cell_type": "code",
      "execution_count": 67,
      "metadata": {
        "id": "_uI4XOIW6-Am"
      },
      "outputs": [],
      "source": [
        "y_pred = np.argmax(preds.logits, axis=1)"
      ]
    },
    {
      "cell_type": "code",
      "source": [
        "print(classification_report(y_test, y_pred))"
      ],
      "metadata": {
        "colab": {
          "base_uri": "https://localhost:8080/"
        },
        "id": "Lt8AlOKOXEhS",
        "outputId": "98629d71-487a-419d-87eb-5e6ed4420ed8"
      },
      "execution_count": 68,
      "outputs": [
        {
          "output_type": "stream",
          "name": "stdout",
          "text": [
            "              precision    recall  f1-score   support\n",
            "\n",
            "           0       0.84      0.77      0.80       235\n",
            "           1       0.81      0.86      0.83       259\n",
            "\n",
            "    accuracy                           0.82       494\n",
            "   macro avg       0.82      0.82      0.82       494\n",
            "weighted avg       0.82      0.82      0.82       494\n",
            "\n"
          ]
        }
      ]
    },
    {
      "cell_type": "code",
      "source": [
        "f1 = f1_score(y_test, y_pred)\n",
        "recall = recall_score(y_test, y_pred)\n",
        "precision = precision_score(y_test, y_pred)\n",
        "accuracy = accuracy_score(y_test, y_pred)"
      ],
      "metadata": {
        "id": "y01qlc1VXFJR"
      },
      "execution_count": 69,
      "outputs": []
    },
    {
      "cell_type": "code",
      "source": [
        "if TRACKING:\n",
        "    wandb.log({'test_f1': f1})\n",
        "    wandb.log({'test_recall': recall})\n",
        "    wandb.log({'test_precision': precision})\n",
        "    wandb.log({'test_accuracy': accuracy})\n",
        "    wandb.finish()"
      ],
      "metadata": {
        "colab": {
          "base_uri": "https://localhost:8080/",
          "height": 412,
          "referenced_widgets": [
            "953b7122c5094efa8e2ce3ae38cd4d3b",
            "82db0c1a2915490d83ca2e51340f7319",
            "2443fa668eee4eabb7956a67b71252b7",
            "8c84fb4e019948a3977c773006139259",
            "3be279cecf1649f0a63159517da41830",
            "b43eedc55fe94fdc82d8e266b29dff1c",
            "e3b6358b48fe4ed79f827fbf09d33c5f",
            "83a98bdad1164c83b7df51f9ffda6eb1"
          ]
        },
        "id": "y2lIJLqwXN2o",
        "outputId": "d0460b0d-f350-4d62-eb77-845200f3872f"
      },
      "execution_count": 70,
      "outputs": [
        {
          "output_type": "display_data",
          "data": {
            "text/html": [
              "<br/>Waiting for W&B process to finish, PID 999... <strong style=\"color:green\">(success).</strong>"
            ],
            "text/plain": [
              "<IPython.core.display.HTML object>"
            ]
          },
          "metadata": {}
        },
        {
          "output_type": "display_data",
          "data": {
            "application/vnd.jupyter.widget-view+json": {
              "model_id": "953b7122c5094efa8e2ce3ae38cd4d3b",
              "version_minor": 0,
              "version_major": 2
            },
            "text/plain": [
              "VBox(children=(Label(value=' 0.00MB of 0.00MB uploaded (0.00MB deduped)\\r'), FloatProgress(value=1.0, max=1.0)…"
            ]
          },
          "metadata": {}
        },
        {
          "output_type": "display_data",
          "data": {
            "text/html": [
              "<style>\n",
              "    table.wandb td:nth-child(1) { padding: 0 10px; text-align: right }\n",
              "    .wandb-row { display: flex; flex-direction: row; flex-wrap: wrap; width: 100% }\n",
              "    .wandb-col { display: flex; flex-direction: column; flex-basis: 100%; flex: 1; padding: 10px; }\n",
              "    </style>\n",
              "<div class=\"wandb-row\"><div class=\"wandb-col\">\n",
              "<h3>Run history:</h3><br/><table class=\"wandb\"><tr><td>epoch</td><td>▁▃▅▆█</td></tr><tr><td>loss</td><td>█▅▂▁▁</td></tr><tr><td>sparse_categorical_accuracy</td><td>▁▅▇██</td></tr><tr><td>test_accuracy</td><td>▁</td></tr><tr><td>test_f1</td><td>▁</td></tr><tr><td>test_precision</td><td>▁</td></tr><tr><td>test_recall</td><td>▁</td></tr><tr><td>val_loss</td><td>▁▁▃▅█</td></tr><tr><td>val_sparse_categorical_accuracy</td><td>▂▁█▆▂</td></tr></table><br/></div><div class=\"wandb-col\">\n",
              "<h3>Run summary:</h3><br/><table class=\"wandb\"><tr><td>best_epoch</td><td>0</td></tr><tr><td>best_val_loss</td><td>0.49584</td></tr><tr><td>epoch</td><td>4</td></tr><tr><td>loss</td><td>0.03633</td></tr><tr><td>sparse_categorical_accuracy</td><td>0.98923</td></tr><tr><td>test_accuracy</td><td>0.81984</td></tr><tr><td>test_f1</td><td>0.83426</td></tr><tr><td>test_precision</td><td>0.80576</td></tr><tr><td>test_recall</td><td>0.86486</td></tr><tr><td>val_loss</td><td>0.92833</td></tr><tr><td>val_sparse_categorical_accuracy</td><td>0.76456</td></tr></table>\n",
              "</div></div>\n",
              "Synced 5 W&B file(s), 1 media file(s), 0 artifact file(s) and 0 other file(s)\n",
              "<br/>Synced <strong style=\"color:#cdcd00\">apricot-moon-11</strong>: <a href=\"https://wandb.ai/jueri/Claim%20detection%20models/runs/3oc7i5t3\" target=\"_blank\">https://wandb.ai/jueri/Claim%20detection%20models/runs/3oc7i5t3</a><br/>\n",
              "Find logs at: <code>./wandb/run-20211217_172902-3oc7i5t3/logs</code><br/>\n"
            ],
            "text/plain": [
              "<IPython.core.display.HTML object>"
            ]
          },
          "metadata": {}
        }
      ]
    },
    {
      "cell_type": "code",
      "source": [
        "acc = history.history['sparse_categorical_accuracy']\n",
        "val_acc = history.history['val_sparse_categorical_accuracy']\n",
        "loss = history.history['loss']\n",
        "val_loss = history.history['val_loss']\n",
        "\n",
        "epochs = range(len(acc))\n",
        "\n",
        "plt.plot(epochs, acc, 'bo', label='Training acc')\n",
        "plt.plot(epochs, val_acc, 'b', label='Validation acc')\n",
        "plt.title('Training and validation accuracy')\n",
        "plt.legend()\n",
        "\n",
        "plt.figure()\n",
        "\n",
        "plt.plot(epochs, loss, 'bo', label='Training loss')\n",
        "plt.plot(epochs, val_loss, 'b', label='Validation loss')\n",
        "plt.title('Training and validation loss')\n",
        "plt.legend()\n",
        "\n",
        "plt.show()"
      ],
      "metadata": {
        "colab": {
          "base_uri": "https://localhost:8080/",
          "height": 545
        },
        "id": "zHXM7GoRaLbE",
        "outputId": "3e89c527-6e22-428d-f532-295b60d2b7e4"
      },
      "execution_count": 74,
      "outputs": [
        {
          "output_type": "display_data",
          "data": {
            "image/png": "[encoded data removed]",
            "text/plain": [
              "<Figure size 432x288 with 1 Axes>"
            ]
          },
          "metadata": {
            "needs_background": "light"
          }
        },
        {
          "output_type": "display_data",
          "data": {
            "image/png": "[encoded data removed]",
            "text/plain": [
              "<Figure size 432x288 with 1 Axes>"
            ]
          },
          "metadata": {
            "needs_background": "light"
          }
        }
      ]
    },
    {
      "cell_type": "code",
      "source": [
        ""
      ],
      "metadata": {
        "id": "ir5rwnU2eGEd"
      },
      "execution_count": null,
      "outputs": []
    }
  ],
  "metadata": {
    "accelerator": "GPU",
    "colab": {
      "collapsed_sections": [],
      "name": "claim_model_BERT.ipynb",
      "provenance": []
    },
    "kernelspec": {
      "display_name": "Python 3",
      "name": "python3"
    },
    "language_info": {
      "name": "python"
    },
    "widgets": {
      "application/vnd.jupyter.widget-state+json": {
        "953b7122c5094efa8e2ce3ae38cd4d3b": {
          "model_module": "@jupyter-widgets/controls",
          "model_name": "VBoxModel",
          "model_module_version": "1.5.0",
          "state": {
            "_view_name": "VBoxView",
            "_dom_classes": [],
            "_model_name": "VBoxModel",
            "_view_module": "@jupyter-widgets/controls",
            "_model_module_version": "1.5.0",
            "_view_count": null,
            "_view_module_version": "1.5.0",
            "box_style": "",
            "layout": "IPY_MODEL_82db0c1a2915490d83ca2e51340f7319",
            "_model_module": "@jupyter-widgets/controls",
            "children": [
              "IPY_MODEL_2443fa668eee4eabb7956a67b71252b7",
              "IPY_MODEL_8c84fb4e019948a3977c773006139259"
            ]
          }
        },
        "82db0c1a2915490d83ca2e51340f7319": {
          "model_module": "@jupyter-widgets/base",
          "model_name": "LayoutModel",
          "model_module_version": "1.2.0",
          "state": {
            "_view_name": "LayoutView",
            "grid_template_rows": null,
            "right": null,
            "justify_content": null,
            "_view_module": "@jupyter-widgets/base",
            "overflow": null,
            "_model_module_version": "1.2.0",
            "_view_count": null,
            "flex_flow": null,
            "width": null,
            "min_width": null,
            "border": null,
            "align_items": null,
            "bottom": null,
            "_model_module": "@jupyter-widgets/base",
            "top": null,
            "grid_column": null,
            "overflow_y": null,
            "overflow_x": null,
            "grid_auto_flow": null,
            "grid_area": null,
            "grid_template_columns": null,
            "flex": null,
            "_model_name": "LayoutModel",
            "justify_items": null,
            "grid_row": null,
            "max_height": null,
            "align_content": null,
            "visibility": null,
            "align_self": null,
            "height": null,
            "min_height": null,
            "padding": null,
            "grid_auto_rows": null,
            "grid_gap": null,
            "max_width": null,
            "order": null,
            "_view_module_version": "1.2.0",
            "grid_template_areas": null,
            "object_position": null,
            "object_fit": null,
            "grid_auto_columns": null,
            "margin": null,
            "display": null,
            "left": null
          }
        },
        "2443fa668eee4eabb7956a67b71252b7": {
          "model_module": "@jupyter-widgets/controls",
          "model_name": "LabelModel",
          "model_module_version": "1.5.0",
          "state": {
            "_view_name": "LabelView",
            "style": "IPY_MODEL_3be279cecf1649f0a63159517da41830",
            "_dom_classes": [],
            "description": "",
            "_model_name": "LabelModel",
            "placeholder": "​",
            "_view_module": "@jupyter-widgets/controls",
            "_model_module_version": "1.5.0",
            "value": " 0.01MB of 0.01MB uploaded (0.00MB deduped)\r",
            "_view_count": null,
            "_view_module_version": "1.5.0",
            "description_tooltip": null,
            "_model_module": "@jupyter-widgets/controls",
            "layout": "IPY_MODEL_b43eedc55fe94fdc82d8e266b29dff1c"
          }
        },
        "8c84fb4e019948a3977c773006139259": {
          "model_module": "@jupyter-widgets/controls",
          "model_name": "FloatProgressModel",
          "model_module_version": "1.5.0",
          "state": {
            "_view_name": "ProgressView",
            "style": "IPY_MODEL_e3b6358b48fe4ed79f827fbf09d33c5f",
            "_dom_classes": [],
            "description": "",
            "_model_name": "FloatProgressModel",
            "bar_style": "",
            "max": 1,
            "_view_module": "@jupyter-widgets/controls",
            "_model_module_version": "1.5.0",
            "value": 1,
            "_view_count": null,
            "_view_module_version": "1.5.0",
            "orientation": "horizontal",
            "min": 0,
            "description_tooltip": null,
            "_model_module": "@jupyter-widgets/controls",
            "layout": "IPY_MODEL_83a98bdad1164c83b7df51f9ffda6eb1"
          }
        },
        "3be279cecf1649f0a63159517da41830": {
          "model_module": "@jupyter-widgets/controls",
          "model_name": "DescriptionStyleModel",
          "model_module_version": "1.5.0",
          "state": {
            "_view_name": "StyleView",
            "_model_name": "DescriptionStyleModel",
            "description_width": "",
            "_view_module": "@jupyter-widgets/base",
            "_model_module_version": "1.5.0",
            "_view_count": null,
            "_view_module_version": "1.2.0",
            "_model_module": "@jupyter-widgets/controls"
          }
        },
        "b43eedc55fe94fdc82d8e266b29dff1c": {
          "model_module": "@jupyter-widgets/base",
          "model_name": "LayoutModel",
          "model_module_version": "1.2.0",
          "state": {
            "_view_name": "LayoutView",
            "grid_template_rows": null,
            "right": null,
            "justify_content": null,
            "_view_module": "@jupyter-widgets/base",
            "overflow": null,
            "_model_module_version": "1.2.0",
            "_view_count": null,
            "flex_flow": null,
            "width": null,
            "min_width": null,
            "border": null,
            "align_items": null,
            "bottom": null,
            "_model_module": "@jupyter-widgets/base",
            "top": null,
            "grid_column": null,
            "overflow_y": null,
            "overflow_x": null,
            "grid_auto_flow": null,
            "grid_area": null,
            "grid_template_columns": null,
            "flex": null,
            "_model_name": "LayoutModel",
            "justify_items": null,
            "grid_row": null,
            "max_height": null,
            "align_content": null,
            "visibility": null,
            "align_self": null,
            "height": null,
            "min_height": null,
            "padding": null,
            "grid_auto_rows": null,
            "grid_gap": null,
            "max_width": null,
            "order": null,
            "_view_module_version": "1.2.0",
            "grid_template_areas": null,
            "object_position": null,
            "object_fit": null,
            "grid_auto_columns": null,
            "margin": null,
            "display": null,
            "left": null
          }
        },
        "e3b6358b48fe4ed79f827fbf09d33c5f": {
          "model_module": "@jupyter-widgets/controls",
          "model_name": "ProgressStyleModel",
          "model_module_version": "1.5.0",
          "state": {
            "_view_name": "StyleView",
            "_model_name": "ProgressStyleModel",
            "description_width": "",
            "_view_module": "@jupyter-widgets/base",
            "_model_module_version": "1.5.0",
            "_view_count": null,
            "_view_module_version": "1.2.0",
            "bar_color": null,
            "_model_module": "@jupyter-widgets/controls"
          }
        },
        "83a98bdad1164c83b7df51f9ffda6eb1": {
          "model_module": "@jupyter-widgets/base",
          "model_name": "LayoutModel",
          "model_module_version": "1.2.0",
          "state": {
            "_view_name": "LayoutView",
            "grid_template_rows": null,
            "right": null,
            "justify_content": null,
            "_view_module": "@jupyter-widgets/base",
            "overflow": null,
            "_model_module_version": "1.2.0",
            "_view_count": null,
            "flex_flow": null,
            "width": null,
            "min_width": null,
            "border": null,
            "align_items": null,
            "bottom": null,
            "_model_module": "@jupyter-widgets/base",
            "top": null,
            "grid_column": null,
            "overflow_y": null,
            "overflow_x": null,
            "grid_auto_flow": null,
            "grid_area": null,
            "grid_template_columns": null,
            "flex": null,
            "_model_name": "LayoutModel",
            "justify_items": null,
            "grid_row": null,
            "max_height": null,
            "align_content": null,
            "visibility": null,
            "align_self": null,
            "height": null,
            "min_height": null,
            "padding": null,
            "grid_auto_rows": null,
            "grid_gap": null,
            "max_width": null,
            "order": null,
            "_view_module_version": "1.2.0",
            "grid_template_areas": null,
            "object_position": null,
            "object_fit": null,
            "grid_auto_columns": null,
            "margin": null,
            "display": null,
            "left": null
          }
        }
      }
    }
  },
  "nbformat": 4,
  "nbformat_minor": 0
}