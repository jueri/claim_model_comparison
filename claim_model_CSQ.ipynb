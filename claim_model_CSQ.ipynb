{
 "cells": [
  {
   "cell_type": "markdown",
   "metadata": {},
   "source": [
    "# Claim Sentence Query\n",
    "___\n",
    "\n",
    "This model is based on:\n",
    "\n",
    "```Bibtex\n",
    "@inproceedings{levyUnsupervisedCorpuswideClaim2017,\n",
    "  title = {Unsupervised Corpus-Wide Claim Detection},\n",
    "  author = {Levy, Ran and Gretz, Shai and Sznajder, Benjamin and Hummel, Shay and Aharonov, Ranit and Slonim, Noam},\n",
    "  date = {2017},\n",
    "  doi = {10.18653/v1/w17-5110},\n",
    "}\n",
    "```\n",
    "\n",
    "Parameter:\n",
    "- Threshold for the retrieval score"
   ]
  },
  {
   "cell_type": "code",
   "execution_count": 1,
   "metadata": {},
   "outputs": [
    {
     "name": "stderr",
     "output_type": "stream",
     "text": [
      "\"-ip=127.0.0.1\" is not a valid option\n",
      " -bm25.accurate               : Boolean switch to use AccurateBM25Similarity (computes accurate\n",
      "                                document lengths). (default: false)\n",
      " -collection [class]          : Collection class in package 'io.anserini.collection'.\n",
      " -es                          : Indexes into Elasticsearch. (default: false)\n",
      " -es.batch [n]                : Elasticsearch batch index requests size. (default: 1000)\n",
      " -es.bulk [n]                 : Elasticsearch max bulk requests size in bytes. (default: 80000000)\n",
      " -es.connectTimeout [ms]      : Elasticsearch (low level) REST client connect timeout (in ms).\n",
      "                                (default: 600000)\n",
      " -es.hostname [host]          : Elasticsearch host. (default: localhost)\n",
      " -es.index [name]             : Elasticsearch index name.\n",
      " -es.password [password]      : Elasticsearch password. (default: changeme)\n",
      " -es.poolSize [num]           : Elasticsearch client pool size. (default: 10)\n",
      " -es.port [port]              : Elasticsearch port number. (default: 9200)\n",
      " -es.socketTimeout [ms]       : Elasticsearch (low level) REST client socket timeout (in ms).\n",
      "                                (default: 600000)\n",
      " -es.user [username]          : Elasticsearch user name. (default: elastic)\n",
      " -generator [class]           : Document generator class in package 'io.anserini.index.generator'.\n",
      "                                (default: DefaultLuceneDocumentGenerator)\n",
      " -impact                      : Boolean switch to store impacts (no norms). (default: false)\n",
      " -index [path]                : Index path.\n",
      " -input [path]                : Location of input collection.\n",
      " -keepStopwords               : Boolean switch to keep stopwords. (default: false)\n",
      " -language [language]         : Analyzer language (ISO 3166 two-letter code). (default: en)\n",
      " -memorybuffer [mb]           : Memory buffer size (in MB). (default: 2048)\n",
      " -optimize                    : Boolean switch to optimize index (i.e., force merge) into a single\n",
      "                                segment; costly for large collections. (default: false)\n",
      " -pretokenized                : index pre-tokenized collections without any additional stemming,\n",
      "                                stopword processing (default: false)\n",
      " -quiet                       : Turns off all logging. (default: false)\n",
      " -shard.count [n]             : Number of shards to partition the document collection into.\n",
      "                                (default: -1)\n",
      " -shard.current [n]           : The current shard number to generate (indexed from 0). (default: -1)\n",
      " -solr                        : Indexes into Solr. (default: false)\n",
      " -solr.batch [n]              : Solr indexing batch size. (default: 1000)\n",
      " -solr.commitWithin [s]       : Solr commitWithin setting (in seconds). (default: 60)\n",
      " -solr.index [name]           : Solr index name.\n",
      " -solr.poolSize [n]           : Solr client pool size. (default: 16)\n",
      " -solr.zkChroot [path]        : Solr ZooKeeper chroot (default: /)\n",
      " -solr.zkUrl [urls]           : Solr ZooKeeper URLs (comma separated list).\n",
      " -stemmer [stemmer]           : Stemmer: one of the following {porter, krovetz, none}; defaults to\n",
      "                                'porter'. (default: porter)\n",
      " -stopwords [file]            : Path to file with stopwords.\n",
      " -storeContents               : Boolean switch to store document contents. (default: false)\n",
      " -storeDocvectors             : Boolean switch to store document vectors; needed for (pseudo)\n",
      "                                relevance feedback. (default: false)\n",
      " -storePositions              : Boolean switch to index store term positions; needed for phrase\n",
      "                                queries. (default: false)\n",
      " -storeRaw                    : Boolean switch to store raw source documents. (default: false)\n",
      " -threads [num]               : Number of indexing threads.\n",
      " -tweet.deletedIdsFile [file] : File that contains deleted tweet ids (longs), one per line; these\n",
      "                                tweets will be skipped during indexing. (default: )\n",
      " -tweet.keepRetweets          : Boolean switch to index retweets. (default: false)\n",
      " -tweet.keepUrls              : Boolean switch to keep URLs. (default: false)\n",
      " -tweet.maxId [id]            : Max tweet id to index (long); all tweets with larger tweet ids will\n",
      "                                be skipped. (default: 9223372036854775807)\n",
      " -tweet.stemming              : Boolean switch to apply Porter stemming while indexing tweets.\n",
      "                                (default: false)\n",
      " -uniqueDocid                 : Removes duplicate documents with the same docid during indexing.\n",
      "                                This significantly slows indexing throughput but may be needed for\n",
      "                                tweet collections since the streaming API might deliver a tweet\n",
      "                                multiple times. (default: false)\n",
      " -verbose                     : Enables verbose logging for each indexing thread; can be noisy if\n",
      "                                collection has many small file segments. (default: false)\n",
      " -whitelist [file]            : File containing list of docids, one per line; only these docids\n",
      "                                will be indexed.\n",
      "Example: IndexCollection -collection [class] -input [path] -threads [num]\n"
     ]
    }
   ],
   "source": [
    "import json\n",
    "import os\n",
    "\n",
    "from config import CLAIM_LEXICON_PATH, DATA_PATH, INDEX_PATH, PYSERINI_PATH\n",
    "\n",
    "import pandas as pd\n",
    "from sklearn.metrics import classification_report, f1_score, precision_score, recall_score, accuracy_score\n",
    "\n",
    "from src.searcher import convert_data, create_index, build_query\n",
    "from src.dataset import load_dataset\n",
    "\n",
    "from config import PROJECT_NAME, DATASET\n",
    "\n",
    "import wandb"
   ]
  },
  {
   "cell_type": "code",
   "execution_count": null,
   "metadata": {},
   "outputs": [],
   "source": [
    "MODEL_NAME = \"CSQ\"\n",
    "TRACKING = False"
   ]
  },
  {
   "cell_type": "markdown",
   "metadata": {},
   "source": [
    "### 0. Load data"
   ]
  },
  {
   "cell_type": "code",
   "execution_count": 16,
   "metadata": {},
   "outputs": [],
   "source": [
    "X_train, X_test, y_train, y_test = load_dataset()"
   ]
  },
  {
   "cell_type": "code",
   "execution_count": 4,
   "metadata": {},
   "outputs": [],
   "source": [
    "with open(CLAIM_LEXICON_PATH, \"r\") as inFile:  # load claim lexicon\n",
    "    claim_lexicon = inFile.read().split(\"\\n\")"
   ]
  },
  {
   "cell_type": "code",
   "execution_count": 5,
   "metadata": {},
   "outputs": [],
   "source": [
    "convert_data(X_train[\"Sentence\"], data_path=PYSERINI_PATH)  # convert data"
   ]
  },
  {
   "cell_type": "markdown",
   "metadata": {},
   "source": [
    "### 1. Setup index"
   ]
  },
  {
   "cell_type": "code",
   "execution_count": 6,
   "metadata": {},
   "outputs": [
    {
     "name": "stdout",
     "output_type": "stream",
     "text": [
      "WARNING: sun.reflect.Reflection.getCallerClass is not supported. This will impact performance.\n",
      "2021-12-13 16:35:28,294 INFO  [main] index.IndexCollection (IndexCollection.java:643) - Setting log level to INFO\n",
      "2021-12-13 16:35:28,296 INFO  [main] index.IndexCollection (IndexCollection.java:646) - Starting indexer...\n",
      "2021-12-13 16:35:28,296 INFO  [main] index.IndexCollection (IndexCollection.java:647) - ============ Loading Parameters ============\n",
      "2021-12-13 16:35:28,297 INFO  [main] index.IndexCollection (IndexCollection.java:648) - DocumentCollection path: data/pyserini\n",
      "2021-12-13 16:35:28,298 INFO  [main] index.IndexCollection (IndexCollection.java:649) - CollectionClass: JsonCollection\n",
      "2021-12-13 16:35:28,299 INFO  [main] index.IndexCollection (IndexCollection.java:650) - Generator: DefaultLuceneDocumentGenerator\n",
      "2021-12-13 16:35:28,300 INFO  [main] index.IndexCollection (IndexCollection.java:651) - Threads: 1\n",
      "2021-12-13 16:35:28,300 INFO  [main] index.IndexCollection (IndexCollection.java:652) - Stemmer: porter\n",
      "2021-12-13 16:35:28,301 INFO  [main] index.IndexCollection (IndexCollection.java:653) - Keep stopwords? false\n",
      "2021-12-13 16:35:28,302 INFO  [main] index.IndexCollection (IndexCollection.java:654) - Stopwords:  null\n",
      "2021-12-13 16:35:28,302 INFO  [main] index.IndexCollection (IndexCollection.java:655) - Store positions? true\n",
      "2021-12-13 16:35:28,303 INFO  [main] index.IndexCollection (IndexCollection.java:656) - Store docvectors? true\n",
      "2021-12-13 16:35:28,303 INFO  [main] index.IndexCollection (IndexCollection.java:657) - Store document \"contents\" field? false\n",
      "2021-12-13 16:35:28,304 INFO  [main] index.IndexCollection (IndexCollection.java:658) - Store document \"raw\" field? true\n",
      "2021-12-13 16:35:28,304 INFO  [main] index.IndexCollection (IndexCollection.java:659) - Optimize (merge segments)? false\n",
      "2021-12-13 16:35:28,304 INFO  [main] index.IndexCollection (IndexCollection.java:660) - Whitelist: null\n",
      "2021-12-13 16:35:28,305 INFO  [main] index.IndexCollection (IndexCollection.java:661) - Pretokenized?: false\n",
      "2021-12-13 16:35:28,305 INFO  [main] index.IndexCollection (IndexCollection.java:681) - Directly building Lucene indexes...\n",
      "2021-12-13 16:35:28,306 INFO  [main] index.IndexCollection (IndexCollection.java:682) - Index path: data/pyserini/index\n",
      "2021-12-13 16:35:28,311 INFO  [main] index.IndexCollection (IndexCollection.java:731) - ============ Indexing Collection ============\n",
      "2021-12-13 16:35:28,445 INFO  [main] index.IndexCollection (IndexCollection.java:832) - Thread pool with 1 threads initialized.\n",
      "2021-12-13 16:35:28,445 INFO  [main] index.IndexCollection (IndexCollection.java:834) - Initializing collection in data/pyserini\n",
      "2021-12-13 16:35:28,450 INFO  [main] index.IndexCollection (IndexCollection.java:843) - 1 file found\n",
      "2021-12-13 16:35:28,451 INFO  [main] index.IndexCollection (IndexCollection.java:844) - Starting to index...\n",
      "2021-12-13 16:35:29,213 DEBUG [pool-2-thread-1] index.IndexCollection$LocalIndexerThread (IndexCollection.java:248) - pyserini/data.json: 2468 docs added.\n",
      "2021-12-13 16:35:29,586 INFO  [main] index.IndexCollection (IndexCollection.java:928) - Indexing Complete! 2,468 documents indexed\n",
      "2021-12-13 16:35:29,591 INFO  [main] index.IndexCollection (IndexCollection.java:929) - ============ Final Counter Values ============\n",
      "2021-12-13 16:35:29,591 INFO  [main] index.IndexCollection (IndexCollection.java:930) - indexed:            2,468\n",
      "2021-12-13 16:35:29,592 INFO  [main] index.IndexCollection (IndexCollection.java:931) - unindexable:            0\n",
      "2021-12-13 16:35:29,593 INFO  [main] index.IndexCollection (IndexCollection.java:932) - empty:                  0\n",
      "2021-12-13 16:35:29,594 INFO  [main] index.IndexCollection (IndexCollection.java:933) - skipped:                0\n",
      "2021-12-13 16:35:29,595 INFO  [main] index.IndexCollection (IndexCollection.java:934) - errors:                 0\n",
      "2021-12-13 16:35:29,611 INFO  [main] index.IndexCollection (IndexCollection.java:937) - Total 2,468 documents indexed in 00:00:01\n"
     ]
    }
   ],
   "source": [
    "searcher = create_index(data_path=PYSERINI_PATH, index_path=INDEX_PATH, language=\"english\")"
   ]
  },
  {
   "cell_type": "markdown",
   "metadata": {},
   "source": [
    "### 2. Search index"
   ]
  },
  {
   "cell_type": "code",
   "execution_count": null,
   "metadata": {},
   "outputs": [],
   "source": [
    "if TRACKING:\n",
    "    wandb.init(project=PROJECT_NAME,\n",
    "            config={\n",
    "                \"model\": MODEL_NAME,\n",
    "                \"dataset\": DATASET,\n",
    "                \"train_data_size\": len(X_train),\n",
    "                \"validation_data_size\": 0,\n",
    "                \"test_data_size\": len(X_test),\n",
    "                \"batch_size\": None,\n",
    "                \"learning_rate\": None,\n",
    "                \"epochs\": None\n",
    "            })"
   ]
  },
  {
   "cell_type": "code",
   "execution_count": 7,
   "metadata": {},
   "outputs": [],
   "source": [
    "predicted = {idx: False for idx in X_train.index}  # create column for reults"
   ]
  },
  {
   "cell_type": "code",
   "execution_count": 8,
   "metadata": {},
   "outputs": [],
   "source": [
    "for main_concept in X_train[\"Article\"].unique():\n",
    "    # create query\n",
    "    should = [\"that\"] + main_concept.split(\" \") + claim_lexicon\n",
    "\n",
    "    # search index\n",
    "    hits = searcher.search(\" \".join(should), k=1000)\n",
    "\n",
    "    # parse results\n",
    "    scores = []\n",
    "    for hit in hits:\n",
    "        if hit.score > 5:  # threshold for acaptable results\n",
    "            ids = json.loads(hit.raw)[\"id\"]\n",
    "            predicted[ids] = True\n",
    "        scores.append(hit.score)\n",
    "    Y_pred = list(predicted.values())\n",
    "    \n",
    "    # pd.DataFrame(scores).plot(xlabel=\"position\", ylabel=\"score\")"
   ]
  },
  {
   "cell_type": "markdown",
   "metadata": {},
   "source": [
    "### 3. Evaluate results"
   ]
  },
  {
   "cell_type": "code",
   "execution_count": 9,
   "metadata": {},
   "outputs": [
    {
     "name": "stdout",
     "output_type": "stream",
     "text": [
      "              precision    recall  f1-score   support\n",
      "\n",
      "       False       0.55      0.81      0.66      1234\n",
      "        True       0.64      0.34      0.44      1234\n",
      "\n",
      "    accuracy                           0.58      2468\n",
      "   macro avg       0.60      0.58      0.55      2468\n",
      "weighted avg       0.60      0.58      0.55      2468\n",
      "\n"
     ]
    }
   ],
   "source": [
    "print(classification_report(y_train.to_list(), Y_pred))"
   ]
  },
  {
   "cell_type": "code",
   "execution_count": null,
   "metadata": {},
   "outputs": [],
   "source": [
    "f1 = f1_score(y_test, Y_pred)\n",
    "recall = recall_score(y_test, Y_pred)\n",
    "precision = precision_score(y_test, Y_pred)\n",
    "accuracy = accuracy_score(y_test, Y_pred)"
   ]
  },
  {
   "cell_type": "code",
   "execution_count": null,
   "metadata": {},
   "outputs": [],
   "source": [
    "if TRACKING:\n",
    "    wandb.log({'test_f1': f1})\n",
    "    wandb.log({'test_recall': recall})\n",
    "    wandb.log({'test_precision': precision})\n",
    "    wandb.log({'test_accuracy': accuracy})\n"
   ]
  }
 ],
 "metadata": {
  "interpreter": {
   "hash": "949777d72b0d2535278d3dc13498b2535136f6dfe0678499012e853ee9abcab1"
  },
  "kernelspec": {
   "display_name": "Python 3.9.9 64-bit",
   "language": "python",
   "name": "python3"
  },
  "language_info": {
   "codemirror_mode": {
    "name": "ipython",
    "version": 3
   },
   "file_extension": ".py",
   "mimetype": "text/x-python",
   "name": "python",
   "nbconvert_exporter": "python",
   "pygments_lexer": "ipython3",
   "version": "3.9.9"
  },
  "orig_nbformat": 4
 },
 "nbformat": 4,
 "nbformat_minor": 2
}
