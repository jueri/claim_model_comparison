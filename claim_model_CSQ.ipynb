{
 "cells": [
  {
   "cell_type": "markdown",
   "metadata": {},
   "source": [
    "# Claim Sentence Query\n",
    "___\n",
    "\n",
    "This model is based on:\n",
    "\n",
    "```Bibtex\n",
    "@inproceedings{levyUnsupervisedCorpuswideClaim2017,\n",
    "  title = {Unsupervised Corpus-Wide Claim Detection},\n",
    "  author = {Levy, Ran and Gretz, Shai and Sznajder, Benjamin and Hummel, Shay and Aharonov, Ranit and Slonim, Noam},\n",
    "  date = {2017},\n",
    "  doi = {10.18653/v1/w17-5110},\n",
    "}\n",
    "```\n",
    "\n",
    "Parameter:\n",
    "- Threshold for the retrieval score"
   ]
  },
  {
   "cell_type": "code",
   "execution_count": 15,
   "metadata": {},
   "outputs": [],
   "source": [
    "import json\n",
    "import os\n",
    "\n",
    "from config import CLAIM_LEXICON_PATH, DATA_PATH, INDEX_PATH, PYSERINI_PATH\n",
    "\n",
    "import pandas as pd\n",
    "from sklearn.metrics import classification_report\n",
    "\n",
    "from src.searcher import convert_data, create_index, build_query\n",
    "from src.dataset import load_dataset"
   ]
  },
  {
   "cell_type": "markdown",
   "metadata": {},
   "source": [
    "### 0. Load data"
   ]
  },
  {
   "cell_type": "code",
   "execution_count": 16,
   "metadata": {},
   "outputs": [],
   "source": [
    "data = load_dataset()"
   ]
  },
  {
   "cell_type": "code",
   "execution_count": 4,
   "metadata": {},
   "outputs": [],
   "source": [
    "with open(CLAIM_LEXICON_PATH, \"r\") as inFile:  # load claim lexicon\n",
    "    claim_lexicon = inFile.read().split(\"\\n\")"
   ]
  },
  {
   "cell_type": "code",
   "execution_count": 5,
   "metadata": {},
   "outputs": [],
   "source": [
    "convert_data(data[\"Sentence\"], data_path=PYSERINI_PATH)  # convert data"
   ]
  },
  {
   "cell_type": "markdown",
   "metadata": {},
   "source": [
    "### 1. Setup index"
   ]
  },
  {
   "cell_type": "code",
   "execution_count": 6,
   "metadata": {},
   "outputs": [
    {
     "name": "stdout",
     "output_type": "stream",
     "text": [
      "WARNING: sun.reflect.Reflection.getCallerClass is not supported. This will impact performance.\n",
      "2021-12-13 16:35:28,294 INFO  [main] index.IndexCollection (IndexCollection.java:643) - Setting log level to INFO\n",
      "2021-12-13 16:35:28,296 INFO  [main] index.IndexCollection (IndexCollection.java:646) - Starting indexer...\n",
      "2021-12-13 16:35:28,296 INFO  [main] index.IndexCollection (IndexCollection.java:647) - ============ Loading Parameters ============\n",
      "2021-12-13 16:35:28,297 INFO  [main] index.IndexCollection (IndexCollection.java:648) - DocumentCollection path: data/pyserini\n",
      "2021-12-13 16:35:28,298 INFO  [main] index.IndexCollection (IndexCollection.java:649) - CollectionClass: JsonCollection\n",
      "2021-12-13 16:35:28,299 INFO  [main] index.IndexCollection (IndexCollection.java:650) - Generator: DefaultLuceneDocumentGenerator\n",
      "2021-12-13 16:35:28,300 INFO  [main] index.IndexCollection (IndexCollection.java:651) - Threads: 1\n",
      "2021-12-13 16:35:28,300 INFO  [main] index.IndexCollection (IndexCollection.java:652) - Stemmer: porter\n",
      "2021-12-13 16:35:28,301 INFO  [main] index.IndexCollection (IndexCollection.java:653) - Keep stopwords? false\n",
      "2021-12-13 16:35:28,302 INFO  [main] index.IndexCollection (IndexCollection.java:654) - Stopwords:  null\n",
      "2021-12-13 16:35:28,302 INFO  [main] index.IndexCollection (IndexCollection.java:655) - Store positions? true\n",
      "2021-12-13 16:35:28,303 INFO  [main] index.IndexCollection (IndexCollection.java:656) - Store docvectors? true\n",
      "2021-12-13 16:35:28,303 INFO  [main] index.IndexCollection (IndexCollection.java:657) - Store document \"contents\" field? false\n",
      "2021-12-13 16:35:28,304 INFO  [main] index.IndexCollection (IndexCollection.java:658) - Store document \"raw\" field? true\n",
      "2021-12-13 16:35:28,304 INFO  [main] index.IndexCollection (IndexCollection.java:659) - Optimize (merge segments)? false\n",
      "2021-12-13 16:35:28,304 INFO  [main] index.IndexCollection (IndexCollection.java:660) - Whitelist: null\n",
      "2021-12-13 16:35:28,305 INFO  [main] index.IndexCollection (IndexCollection.java:661) - Pretokenized?: false\n",
      "2021-12-13 16:35:28,305 INFO  [main] index.IndexCollection (IndexCollection.java:681) - Directly building Lucene indexes...\n",
      "2021-12-13 16:35:28,306 INFO  [main] index.IndexCollection (IndexCollection.java:682) - Index path: data/pyserini/index\n",
      "2021-12-13 16:35:28,311 INFO  [main] index.IndexCollection (IndexCollection.java:731) - ============ Indexing Collection ============\n",
      "2021-12-13 16:35:28,445 INFO  [main] index.IndexCollection (IndexCollection.java:832) - Thread pool with 1 threads initialized.\n",
      "2021-12-13 16:35:28,445 INFO  [main] index.IndexCollection (IndexCollection.java:834) - Initializing collection in data/pyserini\n",
      "2021-12-13 16:35:28,450 INFO  [main] index.IndexCollection (IndexCollection.java:843) - 1 file found\n",
      "2021-12-13 16:35:28,451 INFO  [main] index.IndexCollection (IndexCollection.java:844) - Starting to index...\n",
      "2021-12-13 16:35:29,213 DEBUG [pool-2-thread-1] index.IndexCollection$LocalIndexerThread (IndexCollection.java:248) - pyserini/data.json: 2468 docs added.\n",
      "2021-12-13 16:35:29,586 INFO  [main] index.IndexCollection (IndexCollection.java:928) - Indexing Complete! 2,468 documents indexed\n",
      "2021-12-13 16:35:29,591 INFO  [main] index.IndexCollection (IndexCollection.java:929) - ============ Final Counter Values ============\n",
      "2021-12-13 16:35:29,591 INFO  [main] index.IndexCollection (IndexCollection.java:930) - indexed:            2,468\n",
      "2021-12-13 16:35:29,592 INFO  [main] index.IndexCollection (IndexCollection.java:931) - unindexable:            0\n",
      "2021-12-13 16:35:29,593 INFO  [main] index.IndexCollection (IndexCollection.java:932) - empty:                  0\n",
      "2021-12-13 16:35:29,594 INFO  [main] index.IndexCollection (IndexCollection.java:933) - skipped:                0\n",
      "2021-12-13 16:35:29,595 INFO  [main] index.IndexCollection (IndexCollection.java:934) - errors:                 0\n",
      "2021-12-13 16:35:29,611 INFO  [main] index.IndexCollection (IndexCollection.java:937) - Total 2,468 documents indexed in 00:00:01\n"
     ]
    }
   ],
   "source": [
    "searcher = create_index(data_path=PYSERINI_PATH, index_path=INDEX_PATH, language=\"english\")"
   ]
  },
  {
   "cell_type": "markdown",
   "metadata": {},
   "source": [
    "### 2. Search index"
   ]
  },
  {
   "cell_type": "code",
   "execution_count": 7,
   "metadata": {},
   "outputs": [],
   "source": [
    "predicted = {idx: False for idx in data.index}  # create column for reults"
   ]
  },
  {
   "cell_type": "code",
   "execution_count": 8,
   "metadata": {},
   "outputs": [],
   "source": [
    "for main_concept in data[\"Article\"].unique():\n",
    "    # create query\n",
    "    should = [\"that\"] + main_concept.split(\" \") + claim_lexicon\n",
    "\n",
    "    # search index\n",
    "    hits = searcher.search(\" \".join(should), k=1000)\n",
    "\n",
    "    # parse results\n",
    "    scores = []\n",
    "    for hit in hits:\n",
    "        if hit.score > 5:  # threshold for acaptable results\n",
    "            ids = json.loads(hit.raw)[\"id\"]\n",
    "            predicted[ids] = True\n",
    "        scores.append(hit.score)\n",
    "    \n",
    "    # pd.DataFrame(scores).plot(xlabel=\"position\", ylabel=\"score\")"
   ]
  },
  {
   "cell_type": "markdown",
   "metadata": {},
   "source": [
    "### 3. Evaluate results"
   ]
  },
  {
   "cell_type": "code",
   "execution_count": 9,
   "metadata": {},
   "outputs": [
    {
     "name": "stdout",
     "output_type": "stream",
     "text": [
      "              precision    recall  f1-score   support\n",
      "\n",
      "       False       0.55      0.81      0.66      1234\n",
      "        True       0.64      0.34      0.44      1234\n",
      "\n",
      "    accuracy                           0.58      2468\n",
      "   macro avg       0.60      0.58      0.55      2468\n",
      "weighted avg       0.60      0.58      0.55      2468\n",
      "\n"
     ]
    }
   ],
   "source": [
    "print(classification_report(data[\"Claim\"].to_list(), list(predicted.values())))"
   ]
  }
 ],
 "metadata": {
  "interpreter": {
   "hash": "949777d72b0d2535278d3dc13498b2535136f6dfe0678499012e853ee9abcab1"
  },
  "kernelspec": {
   "display_name": "Python 3.9.9 64-bit",
   "language": "python",
   "name": "python3"
  },
  "language_info": {
   "codemirror_mode": {
    "name": "ipython",
    "version": 3
   },
   "file_extension": ".py",
   "mimetype": "text/x-python",
   "name": "python",
   "nbconvert_exporter": "python",
   "pygments_lexer": "ipython3",
   "version": "3.9.9"
  },
  "orig_nbformat": 4
 },
 "nbformat": 4,
 "nbformat_minor": 2
}
