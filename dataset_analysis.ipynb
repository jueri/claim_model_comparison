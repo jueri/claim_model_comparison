{
 "cells": [
  {
   "cell_type": "code",
   "execution_count": 7,
   "metadata": {},
   "outputs": [],
   "source": [
    "from src.dataset import load_dataset\n",
    "from config import *\n",
    "import pandas as pd"
   ]
  },
  {
   "cell_type": "code",
   "execution_count": 111,
   "metadata": {},
   "outputs": [],
   "source": [
    "FALSE_CLASS_BALANCE=1"
   ]
  },
  {
   "cell_type": "markdown",
   "metadata": {},
   "source": [
    "### Dataset: IBM_Debater_(R)_CE-ACL-2014.v0"
   ]
  },
  {
   "cell_type": "code",
   "execution_count": null,
   "metadata": {},
   "outputs": [],
   "source": [
    "dataset = DATASETS[\"dataset_2014\"]"
   ]
  },
  {
   "cell_type": "code",
   "execution_count": 4,
   "metadata": {},
   "outputs": [],
   "source": [
    "X_train, X_test, y_train, y_test = load_dataset(dataset_path=os.path.join(dataset[\"base_path\"], dataset[\"data\"]), false_class_balance=FALSE_CLASS_BALANCE)\n",
    "original_claims = pd.read_excel(os.path.join(dataset[\"base_path\"], dataset[\"claim_file\"]))"
   ]
  },
  {
   "cell_type": "code",
   "execution_count": null,
   "metadata": {},
   "outputs": [],
   "source": [
    "full_dataset = pd.concat([X_train, X_test])\n",
    "full_dataset[\"sentence_lenghth\"] = full_dataset.Sentence.apply(lambda x: len(x.split(\" \")))"
   ]
  },
  {
   "cell_type": "code",
   "execution_count": 93,
   "metadata": {},
   "outputs": [
    {
     "name": "stdout",
     "output_type": "stream",
     "text": [
      "Number topics: 33\n",
      "Number articles: 315\n",
      "Avg. sentence length: 25.96677471636953\n",
      "Avg. claim sentence length: 28.95218800648298\n",
      "Avg. non-claim sentence length: 22.98136142625608\n"
     ]
    }
   ],
   "source": [
    "print(\"Number topics:\", len(original_claims.Topic.unique()))\n",
    "print(\"Number articles:\", len(original_claims.Article.unique()))\n",
    "print(\"Avg. sentence length:\", full_dataset[\"sentence_lenghth\"].mean())\n",
    "print(\"Avg. claim sentence length:\", full_dataset[full_dataset[\"Claim\"]==True][\"sentence_lenghth\"].mean())\n",
    "print(\"Avg. non-claim sentence length:\", full_dataset[full_dataset[\"Claim\"]==False][\"sentence_lenghth\"].mean())"
   ]
  },
  {
   "cell_type": "markdown",
   "metadata": {},
   "source": [
    "### Dataset: IBM_Debater_(R)_claim_sentences_search"
   ]
  },
  {
   "cell_type": "code",
   "execution_count": null,
   "metadata": {},
   "outputs": [],
   "source": [
    "dataset = DATASETS[\"dataset_2018\"]"
   ]
  },
  {
   "cell_type": "code",
   "execution_count": 102,
   "metadata": {},
   "outputs": [],
   "source": [
    "X_train, X_test, y_train, y_test = load_dataset(dataset_path=os.path.join(dataset[\"base_path\"], dataset[\"data\"]), false_class_balance=FALSE_CLASS_BALANCE)\n",
    "full_dataset = pd.concat([X_train, X_test])\n",
    "names = [\"id\", \"topic\", \"Article\", \"Sentence\", \"query_pattern\", \"score\", \"Claim\", \"url\"]\n",
    "data = pd.read_csv(os.path.join(dataset[\"base_path\"], \"test_set.csv\"), names=names)"
   ]
  },
  {
   "cell_type": "code",
   "execution_count": 109,
   "metadata": {},
   "outputs": [],
   "source": [
    "full_dataset = pd.concat([X_train, X_test])\n",
    "data[\"sentence_lenghth\"] = data.Sentence.apply(lambda x: len(x.split(\" \")))"
   ]
  },
  {
   "cell_type": "code",
   "execution_count": 110,
   "metadata": {},
   "outputs": [
    {
     "name": "stdout",
     "output_type": "stream",
     "text": [
      "Number non-claims: 1767\n",
      "Number claims: 733\n",
      "Number topics: 33\n",
      "Number topics: 50\n",
      "Number articles: 50\n",
      "Avg. sentence length: 23.9428\n",
      "Avg. claim sentence length: 23.733969986357437\n",
      "Avg. non-claim sentence length: 24.029428409734013\n"
     ]
    }
   ],
   "source": [
    "print(\"Number non-claims:\", len(data[data.Claim==0]))\n",
    "print(\"Number claims:\", len(data[data.Claim==1]))\n",
    "print(\"Number topics:\", len(original_claims.Topic.unique()))\n",
    "print(\"Number topics:\", len(data.topic.unique()))\n",
    "print(\"Number articles:\", len(data.Article.unique()))\n",
    "print(\"Avg. sentence length:\", data[\"sentence_lenghth\"].mean())\n",
    "print(\"Avg. claim sentence length:\", data[data[\"Claim\"]==1][\"sentence_lenghth\"].mean())\n",
    "print(\"Avg. non-claim sentence length:\", data[data[\"Claim\"]==0][\"sentence_lenghth\"].mean())"
   ]
  }
 ],
 "metadata": {
  "interpreter": {
   "hash": "949777d72b0d2535278d3dc13498b2535136f6dfe0678499012e853ee9abcab1"
  },
  "kernelspec": {
   "display_name": "Python 3.9.9 64-bit",
   "language": "python",
   "name": "python3"
  },
  "language_info": {
   "codemirror_mode": {
    "name": "ipython",
    "version": 3
   },
   "file_extension": ".py",
   "mimetype": "text/x-python",
   "name": "python",
   "nbconvert_exporter": "python",
   "pygments_lexer": "ipython3",
   "version": "3.9.9"
  },
  "orig_nbformat": 4
 },
 "nbformat": 4,
 "nbformat_minor": 2
}
